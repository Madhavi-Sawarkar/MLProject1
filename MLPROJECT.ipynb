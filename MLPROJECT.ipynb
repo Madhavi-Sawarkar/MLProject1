{
  "nbformat": 4,
  "nbformat_minor": 0,
  "metadata": {
    "colab": {
      "name": "MLPROJECT",
      "provenance": [],
      "collapsed_sections": [],
      "mount_file_id": "10UhMNyfLPpYUFml7y9RNYDJPibp7X1zU",
      "authorship_tag": "ABX9TyMdhoUolWNBEa7XWT9tW02Z",
      "include_colab_link": true
    },
    "kernelspec": {
      "name": "python3",
      "display_name": "Python 3"
    }
  },
  "cells": [
    {
      "cell_type": "markdown",
      "metadata": {
        "id": "view-in-github",
        "colab_type": "text"
      },
      "source": [
        "<a href=\"https://colab.research.google.com/github/Madhavi-Sawarkar/MLProject1/blob/master/MLPROJECT.ipynb\" target=\"_parent\"><img src=\"https://colab.research.google.com/assets/colab-badge.svg\" alt=\"Open In Colab\"/></a>"
      ]
    },
    {
      "cell_type": "markdown",
      "metadata": {
        "id": "r72jhX_fyR0N",
        "colab_type": "text"
      },
      "source": [
        "![Picture](https://techcrunch.com/wp-content/uploads/2020/07/P90389007_highRes.jpg?w=730&crop=1)"
      ]
    },
    {
      "cell_type": "markdown",
      "metadata": {
        "id": "3S5YKScy4Yc5",
        "colab_type": "text"
      },
      "source": [
        "***Exploratory_Data_Analysis Of Car Features***"
      ]
    },
    {
      "cell_type": "code",
      "metadata": {
        "id": "_kCfHv1t_rPa",
        "colab_type": "code",
        "colab": {
          "base_uri": "https://localhost:8080/",
          "height": 54
        },
        "outputId": "eb4d0c6e-de18-4208-90f5-b3c6c4aefcfd"
      },
      "source": [
        "from google.colab import drive\n",
        "drive.mount('/content/drive/')"
      ],
      "execution_count": 122,
      "outputs": [
        {
          "output_type": "stream",
          "text": [
            "Drive already mounted at /content/drive/; to attempt to forcibly remount, call drive.mount(\"/content/drive/\", force_remount=True).\n"
          ],
          "name": "stdout"
        }
      ]
    },
    {
      "cell_type": "markdown",
      "metadata": {
        "id": "WftL_IxiAxjC",
        "colab_type": "text"
      },
      "source": [
        "**1.Data Exploration and Preprocessing**\n",
        "\n",
        "What is the first thing we do when we are provided with a dataset? we would explore the data, go through the individual variables, and clean the data to make it ready for the model building process.\n",
        "\n",
        "That is exactly what we will be doing here. We will explore the variables and find out the mandatory preprocessing steps required for the given data.\n",
        "\n",
        "Below are the libraries that are used in order to perform EDA (Exploratory data analysis) \n",
        "\n"
      ]
    },
    {
      "cell_type": "code",
      "metadata": {
        "id": "fsbwVcfqBOML",
        "colab_type": "code",
        "colab": {}
      },
      "source": [
        "#Important libraries for EDA\n",
        "import pandas as pd\n",
        "import numpy as np\n",
        "import seaborn as sns                       #visualisation\n",
        "import matplotlib.pyplot as plt             #visualisation\n",
        "%matplotlib inline\n",
        "sns.set(color_codes=True)\n"
      ],
      "execution_count": 123,
      "outputs": []
    },
    {
      "cell_type": "markdown",
      "metadata": {
        "id": "7zUckw4TBnLu",
        "colab_type": "text"
      },
      "source": [
        "1(a) Loading Data Into Data Frame\n",
        "\n",
        "Loading the data into the pandas data frame is certainly one of the most important steps in EDA, as we can see that the value from the data set is comma-separated. So all we have to do is to just read the CSV into a data frame and pandas data frame does the job for us.\n",
        "\n"
      ]
    },
    {
      "cell_type": "code",
      "metadata": {
        "id": "NP3ZKeWnSPcn",
        "colab_type": "code",
        "colab": {
          "base_uri": "https://localhost:8080/",
          "height": 774
        },
        "outputId": "d40ae4b1-9e49-469f-d178-3ee0b13e6270"
      },
      "source": [
        "data = pd.read_csv(\"/content/drive/My Drive/Colab Notebooks/data.csv\")\n",
        "# Print the dataframe\n",
        "data"
      ],
      "execution_count": 124,
      "outputs": [
        {
          "output_type": "execute_result",
          "data": {
            "text/html": [
              "<div>\n",
              "<style scoped>\n",
              "    .dataframe tbody tr th:only-of-type {\n",
              "        vertical-align: middle;\n",
              "    }\n",
              "\n",
              "    .dataframe tbody tr th {\n",
              "        vertical-align: top;\n",
              "    }\n",
              "\n",
              "    .dataframe thead th {\n",
              "        text-align: right;\n",
              "    }\n",
              "</style>\n",
              "<table border=\"1\" class=\"dataframe\">\n",
              "  <thead>\n",
              "    <tr style=\"text-align: right;\">\n",
              "      <th></th>\n",
              "      <th>Make</th>\n",
              "      <th>Model</th>\n",
              "      <th>Year</th>\n",
              "      <th>Engine Fuel Type</th>\n",
              "      <th>Engine HP</th>\n",
              "      <th>Engine Cylinders</th>\n",
              "      <th>Transmission Type</th>\n",
              "      <th>Driven_Wheels</th>\n",
              "      <th>Number of Doors</th>\n",
              "      <th>Market Category</th>\n",
              "      <th>Vehicle Size</th>\n",
              "      <th>Vehicle Style</th>\n",
              "      <th>highway MPG</th>\n",
              "      <th>city mpg</th>\n",
              "      <th>Popularity</th>\n",
              "      <th>MSRP</th>\n",
              "    </tr>\n",
              "  </thead>\n",
              "  <tbody>\n",
              "    <tr>\n",
              "      <th>0</th>\n",
              "      <td>BMW</td>\n",
              "      <td>1 Series M</td>\n",
              "      <td>2011</td>\n",
              "      <td>premium unleaded (required)</td>\n",
              "      <td>335.0</td>\n",
              "      <td>6.0</td>\n",
              "      <td>MANUAL</td>\n",
              "      <td>rear wheel drive</td>\n",
              "      <td>2.0</td>\n",
              "      <td>Factory Tuner,Luxury,High-Performance</td>\n",
              "      <td>Compact</td>\n",
              "      <td>Coupe</td>\n",
              "      <td>26</td>\n",
              "      <td>19</td>\n",
              "      <td>3916</td>\n",
              "      <td>46135</td>\n",
              "    </tr>\n",
              "    <tr>\n",
              "      <th>1</th>\n",
              "      <td>BMW</td>\n",
              "      <td>1 Series</td>\n",
              "      <td>2011</td>\n",
              "      <td>premium unleaded (required)</td>\n",
              "      <td>300.0</td>\n",
              "      <td>6.0</td>\n",
              "      <td>MANUAL</td>\n",
              "      <td>rear wheel drive</td>\n",
              "      <td>2.0</td>\n",
              "      <td>Luxury,Performance</td>\n",
              "      <td>Compact</td>\n",
              "      <td>Convertible</td>\n",
              "      <td>28</td>\n",
              "      <td>19</td>\n",
              "      <td>3916</td>\n",
              "      <td>40650</td>\n",
              "    </tr>\n",
              "    <tr>\n",
              "      <th>2</th>\n",
              "      <td>BMW</td>\n",
              "      <td>1 Series</td>\n",
              "      <td>2011</td>\n",
              "      <td>premium unleaded (required)</td>\n",
              "      <td>300.0</td>\n",
              "      <td>6.0</td>\n",
              "      <td>MANUAL</td>\n",
              "      <td>rear wheel drive</td>\n",
              "      <td>2.0</td>\n",
              "      <td>Luxury,High-Performance</td>\n",
              "      <td>Compact</td>\n",
              "      <td>Coupe</td>\n",
              "      <td>28</td>\n",
              "      <td>20</td>\n",
              "      <td>3916</td>\n",
              "      <td>36350</td>\n",
              "    </tr>\n",
              "    <tr>\n",
              "      <th>3</th>\n",
              "      <td>BMW</td>\n",
              "      <td>1 Series</td>\n",
              "      <td>2011</td>\n",
              "      <td>premium unleaded (required)</td>\n",
              "      <td>230.0</td>\n",
              "      <td>6.0</td>\n",
              "      <td>MANUAL</td>\n",
              "      <td>rear wheel drive</td>\n",
              "      <td>2.0</td>\n",
              "      <td>Luxury,Performance</td>\n",
              "      <td>Compact</td>\n",
              "      <td>Coupe</td>\n",
              "      <td>28</td>\n",
              "      <td>18</td>\n",
              "      <td>3916</td>\n",
              "      <td>29450</td>\n",
              "    </tr>\n",
              "    <tr>\n",
              "      <th>4</th>\n",
              "      <td>BMW</td>\n",
              "      <td>1 Series</td>\n",
              "      <td>2011</td>\n",
              "      <td>premium unleaded (required)</td>\n",
              "      <td>230.0</td>\n",
              "      <td>6.0</td>\n",
              "      <td>MANUAL</td>\n",
              "      <td>rear wheel drive</td>\n",
              "      <td>2.0</td>\n",
              "      <td>Luxury</td>\n",
              "      <td>Compact</td>\n",
              "      <td>Convertible</td>\n",
              "      <td>28</td>\n",
              "      <td>18</td>\n",
              "      <td>3916</td>\n",
              "      <td>34500</td>\n",
              "    </tr>\n",
              "    <tr>\n",
              "      <th>...</th>\n",
              "      <td>...</td>\n",
              "      <td>...</td>\n",
              "      <td>...</td>\n",
              "      <td>...</td>\n",
              "      <td>...</td>\n",
              "      <td>...</td>\n",
              "      <td>...</td>\n",
              "      <td>...</td>\n",
              "      <td>...</td>\n",
              "      <td>...</td>\n",
              "      <td>...</td>\n",
              "      <td>...</td>\n",
              "      <td>...</td>\n",
              "      <td>...</td>\n",
              "      <td>...</td>\n",
              "      <td>...</td>\n",
              "    </tr>\n",
              "    <tr>\n",
              "      <th>11909</th>\n",
              "      <td>Acura</td>\n",
              "      <td>ZDX</td>\n",
              "      <td>2012</td>\n",
              "      <td>premium unleaded (required)</td>\n",
              "      <td>300.0</td>\n",
              "      <td>6.0</td>\n",
              "      <td>AUTOMATIC</td>\n",
              "      <td>all wheel drive</td>\n",
              "      <td>4.0</td>\n",
              "      <td>Crossover,Hatchback,Luxury</td>\n",
              "      <td>Midsize</td>\n",
              "      <td>4dr Hatchback</td>\n",
              "      <td>23</td>\n",
              "      <td>16</td>\n",
              "      <td>204</td>\n",
              "      <td>46120</td>\n",
              "    </tr>\n",
              "    <tr>\n",
              "      <th>11910</th>\n",
              "      <td>Acura</td>\n",
              "      <td>ZDX</td>\n",
              "      <td>2012</td>\n",
              "      <td>premium unleaded (required)</td>\n",
              "      <td>300.0</td>\n",
              "      <td>6.0</td>\n",
              "      <td>AUTOMATIC</td>\n",
              "      <td>all wheel drive</td>\n",
              "      <td>4.0</td>\n",
              "      <td>Crossover,Hatchback,Luxury</td>\n",
              "      <td>Midsize</td>\n",
              "      <td>4dr Hatchback</td>\n",
              "      <td>23</td>\n",
              "      <td>16</td>\n",
              "      <td>204</td>\n",
              "      <td>56670</td>\n",
              "    </tr>\n",
              "    <tr>\n",
              "      <th>11911</th>\n",
              "      <td>Acura</td>\n",
              "      <td>ZDX</td>\n",
              "      <td>2012</td>\n",
              "      <td>premium unleaded (required)</td>\n",
              "      <td>300.0</td>\n",
              "      <td>6.0</td>\n",
              "      <td>AUTOMATIC</td>\n",
              "      <td>all wheel drive</td>\n",
              "      <td>4.0</td>\n",
              "      <td>Crossover,Hatchback,Luxury</td>\n",
              "      <td>Midsize</td>\n",
              "      <td>4dr Hatchback</td>\n",
              "      <td>23</td>\n",
              "      <td>16</td>\n",
              "      <td>204</td>\n",
              "      <td>50620</td>\n",
              "    </tr>\n",
              "    <tr>\n",
              "      <th>11912</th>\n",
              "      <td>Acura</td>\n",
              "      <td>ZDX</td>\n",
              "      <td>2013</td>\n",
              "      <td>premium unleaded (recommended)</td>\n",
              "      <td>300.0</td>\n",
              "      <td>6.0</td>\n",
              "      <td>AUTOMATIC</td>\n",
              "      <td>all wheel drive</td>\n",
              "      <td>4.0</td>\n",
              "      <td>Crossover,Hatchback,Luxury</td>\n",
              "      <td>Midsize</td>\n",
              "      <td>4dr Hatchback</td>\n",
              "      <td>23</td>\n",
              "      <td>16</td>\n",
              "      <td>204</td>\n",
              "      <td>50920</td>\n",
              "    </tr>\n",
              "    <tr>\n",
              "      <th>11913</th>\n",
              "      <td>Lincoln</td>\n",
              "      <td>Zephyr</td>\n",
              "      <td>2006</td>\n",
              "      <td>regular unleaded</td>\n",
              "      <td>221.0</td>\n",
              "      <td>6.0</td>\n",
              "      <td>AUTOMATIC</td>\n",
              "      <td>front wheel drive</td>\n",
              "      <td>4.0</td>\n",
              "      <td>Luxury</td>\n",
              "      <td>Midsize</td>\n",
              "      <td>Sedan</td>\n",
              "      <td>26</td>\n",
              "      <td>17</td>\n",
              "      <td>61</td>\n",
              "      <td>28995</td>\n",
              "    </tr>\n",
              "  </tbody>\n",
              "</table>\n",
              "<p>11914 rows × 16 columns</p>\n",
              "</div>"
            ],
            "text/plain": [
              "          Make       Model  Year  ... city mpg  Popularity   MSRP\n",
              "0          BMW  1 Series M  2011  ...       19        3916  46135\n",
              "1          BMW    1 Series  2011  ...       19        3916  40650\n",
              "2          BMW    1 Series  2011  ...       20        3916  36350\n",
              "3          BMW    1 Series  2011  ...       18        3916  29450\n",
              "4          BMW    1 Series  2011  ...       18        3916  34500\n",
              "...        ...         ...   ...  ...      ...         ...    ...\n",
              "11909    Acura         ZDX  2012  ...       16         204  46120\n",
              "11910    Acura         ZDX  2012  ...       16         204  56670\n",
              "11911    Acura         ZDX  2012  ...       16         204  50620\n",
              "11912    Acura         ZDX  2013  ...       16         204  50920\n",
              "11913  Lincoln      Zephyr  2006  ...       17          61  28995\n",
              "\n",
              "[11914 rows x 16 columns]"
            ]
          },
          "metadata": {
            "tags": []
          },
          "execution_count": 124
        }
      ]
    },
    {
      "cell_type": "code",
      "metadata": {
        "id": "1qBIQe7aTSV4",
        "colab_type": "code",
        "colab": {
          "base_uri": "https://localhost:8080/",
          "height": 417
        },
        "outputId": "857ec32d-715e-4a7e-bd49-0a45a36b33cd"
      },
      "source": [
        "#To display the top 5 rows\n",
        "data.head(5)"
      ],
      "execution_count": 125,
      "outputs": [
        {
          "output_type": "execute_result",
          "data": {
            "text/html": [
              "<div>\n",
              "<style scoped>\n",
              "    .dataframe tbody tr th:only-of-type {\n",
              "        vertical-align: middle;\n",
              "    }\n",
              "\n",
              "    .dataframe tbody tr th {\n",
              "        vertical-align: top;\n",
              "    }\n",
              "\n",
              "    .dataframe thead th {\n",
              "        text-align: right;\n",
              "    }\n",
              "</style>\n",
              "<table border=\"1\" class=\"dataframe\">\n",
              "  <thead>\n",
              "    <tr style=\"text-align: right;\">\n",
              "      <th></th>\n",
              "      <th>Make</th>\n",
              "      <th>Model</th>\n",
              "      <th>Year</th>\n",
              "      <th>Engine Fuel Type</th>\n",
              "      <th>Engine HP</th>\n",
              "      <th>Engine Cylinders</th>\n",
              "      <th>Transmission Type</th>\n",
              "      <th>Driven_Wheels</th>\n",
              "      <th>Number of Doors</th>\n",
              "      <th>Market Category</th>\n",
              "      <th>Vehicle Size</th>\n",
              "      <th>Vehicle Style</th>\n",
              "      <th>highway MPG</th>\n",
              "      <th>city mpg</th>\n",
              "      <th>Popularity</th>\n",
              "      <th>MSRP</th>\n",
              "    </tr>\n",
              "  </thead>\n",
              "  <tbody>\n",
              "    <tr>\n",
              "      <th>0</th>\n",
              "      <td>BMW</td>\n",
              "      <td>1 Series M</td>\n",
              "      <td>2011</td>\n",
              "      <td>premium unleaded (required)</td>\n",
              "      <td>335.0</td>\n",
              "      <td>6.0</td>\n",
              "      <td>MANUAL</td>\n",
              "      <td>rear wheel drive</td>\n",
              "      <td>2.0</td>\n",
              "      <td>Factory Tuner,Luxury,High-Performance</td>\n",
              "      <td>Compact</td>\n",
              "      <td>Coupe</td>\n",
              "      <td>26</td>\n",
              "      <td>19</td>\n",
              "      <td>3916</td>\n",
              "      <td>46135</td>\n",
              "    </tr>\n",
              "    <tr>\n",
              "      <th>1</th>\n",
              "      <td>BMW</td>\n",
              "      <td>1 Series</td>\n",
              "      <td>2011</td>\n",
              "      <td>premium unleaded (required)</td>\n",
              "      <td>300.0</td>\n",
              "      <td>6.0</td>\n",
              "      <td>MANUAL</td>\n",
              "      <td>rear wheel drive</td>\n",
              "      <td>2.0</td>\n",
              "      <td>Luxury,Performance</td>\n",
              "      <td>Compact</td>\n",
              "      <td>Convertible</td>\n",
              "      <td>28</td>\n",
              "      <td>19</td>\n",
              "      <td>3916</td>\n",
              "      <td>40650</td>\n",
              "    </tr>\n",
              "    <tr>\n",
              "      <th>2</th>\n",
              "      <td>BMW</td>\n",
              "      <td>1 Series</td>\n",
              "      <td>2011</td>\n",
              "      <td>premium unleaded (required)</td>\n",
              "      <td>300.0</td>\n",
              "      <td>6.0</td>\n",
              "      <td>MANUAL</td>\n",
              "      <td>rear wheel drive</td>\n",
              "      <td>2.0</td>\n",
              "      <td>Luxury,High-Performance</td>\n",
              "      <td>Compact</td>\n",
              "      <td>Coupe</td>\n",
              "      <td>28</td>\n",
              "      <td>20</td>\n",
              "      <td>3916</td>\n",
              "      <td>36350</td>\n",
              "    </tr>\n",
              "    <tr>\n",
              "      <th>3</th>\n",
              "      <td>BMW</td>\n",
              "      <td>1 Series</td>\n",
              "      <td>2011</td>\n",
              "      <td>premium unleaded (required)</td>\n",
              "      <td>230.0</td>\n",
              "      <td>6.0</td>\n",
              "      <td>MANUAL</td>\n",
              "      <td>rear wheel drive</td>\n",
              "      <td>2.0</td>\n",
              "      <td>Luxury,Performance</td>\n",
              "      <td>Compact</td>\n",
              "      <td>Coupe</td>\n",
              "      <td>28</td>\n",
              "      <td>18</td>\n",
              "      <td>3916</td>\n",
              "      <td>29450</td>\n",
              "    </tr>\n",
              "    <tr>\n",
              "      <th>4</th>\n",
              "      <td>BMW</td>\n",
              "      <td>1 Series</td>\n",
              "      <td>2011</td>\n",
              "      <td>premium unleaded (required)</td>\n",
              "      <td>230.0</td>\n",
              "      <td>6.0</td>\n",
              "      <td>MANUAL</td>\n",
              "      <td>rear wheel drive</td>\n",
              "      <td>2.0</td>\n",
              "      <td>Luxury</td>\n",
              "      <td>Compact</td>\n",
              "      <td>Convertible</td>\n",
              "      <td>28</td>\n",
              "      <td>18</td>\n",
              "      <td>3916</td>\n",
              "      <td>34500</td>\n",
              "    </tr>\n",
              "  </tbody>\n",
              "</table>\n",
              "</div>"
            ],
            "text/plain": [
              "  Make       Model  Year  ... city mpg  Popularity   MSRP\n",
              "0  BMW  1 Series M  2011  ...       19        3916  46135\n",
              "1  BMW    1 Series  2011  ...       19        3916  40650\n",
              "2  BMW    1 Series  2011  ...       20        3916  36350\n",
              "3  BMW    1 Series  2011  ...       18        3916  29450\n",
              "4  BMW    1 Series  2011  ...       18        3916  34500\n",
              "\n",
              "[5 rows x 16 columns]"
            ]
          },
          "metadata": {
            "tags": []
          },
          "execution_count": 125
        }
      ]
    },
    {
      "cell_type": "code",
      "metadata": {
        "id": "mi3O2XEvQsuH",
        "colab_type": "code",
        "colab": {
          "base_uri": "https://localhost:8080/",
          "height": 400
        },
        "outputId": "f9c49c6d-fb0f-4215-a4b3-9321991e368f"
      },
      "source": [
        "#To display the bottom 5 rows\n",
        "data.tail(5)"
      ],
      "execution_count": 126,
      "outputs": [
        {
          "output_type": "execute_result",
          "data": {
            "text/html": [
              "<div>\n",
              "<style scoped>\n",
              "    .dataframe tbody tr th:only-of-type {\n",
              "        vertical-align: middle;\n",
              "    }\n",
              "\n",
              "    .dataframe tbody tr th {\n",
              "        vertical-align: top;\n",
              "    }\n",
              "\n",
              "    .dataframe thead th {\n",
              "        text-align: right;\n",
              "    }\n",
              "</style>\n",
              "<table border=\"1\" class=\"dataframe\">\n",
              "  <thead>\n",
              "    <tr style=\"text-align: right;\">\n",
              "      <th></th>\n",
              "      <th>Make</th>\n",
              "      <th>Model</th>\n",
              "      <th>Year</th>\n",
              "      <th>Engine Fuel Type</th>\n",
              "      <th>Engine HP</th>\n",
              "      <th>Engine Cylinders</th>\n",
              "      <th>Transmission Type</th>\n",
              "      <th>Driven_Wheels</th>\n",
              "      <th>Number of Doors</th>\n",
              "      <th>Market Category</th>\n",
              "      <th>Vehicle Size</th>\n",
              "      <th>Vehicle Style</th>\n",
              "      <th>highway MPG</th>\n",
              "      <th>city mpg</th>\n",
              "      <th>Popularity</th>\n",
              "      <th>MSRP</th>\n",
              "    </tr>\n",
              "  </thead>\n",
              "  <tbody>\n",
              "    <tr>\n",
              "      <th>11909</th>\n",
              "      <td>Acura</td>\n",
              "      <td>ZDX</td>\n",
              "      <td>2012</td>\n",
              "      <td>premium unleaded (required)</td>\n",
              "      <td>300.0</td>\n",
              "      <td>6.0</td>\n",
              "      <td>AUTOMATIC</td>\n",
              "      <td>all wheel drive</td>\n",
              "      <td>4.0</td>\n",
              "      <td>Crossover,Hatchback,Luxury</td>\n",
              "      <td>Midsize</td>\n",
              "      <td>4dr Hatchback</td>\n",
              "      <td>23</td>\n",
              "      <td>16</td>\n",
              "      <td>204</td>\n",
              "      <td>46120</td>\n",
              "    </tr>\n",
              "    <tr>\n",
              "      <th>11910</th>\n",
              "      <td>Acura</td>\n",
              "      <td>ZDX</td>\n",
              "      <td>2012</td>\n",
              "      <td>premium unleaded (required)</td>\n",
              "      <td>300.0</td>\n",
              "      <td>6.0</td>\n",
              "      <td>AUTOMATIC</td>\n",
              "      <td>all wheel drive</td>\n",
              "      <td>4.0</td>\n",
              "      <td>Crossover,Hatchback,Luxury</td>\n",
              "      <td>Midsize</td>\n",
              "      <td>4dr Hatchback</td>\n",
              "      <td>23</td>\n",
              "      <td>16</td>\n",
              "      <td>204</td>\n",
              "      <td>56670</td>\n",
              "    </tr>\n",
              "    <tr>\n",
              "      <th>11911</th>\n",
              "      <td>Acura</td>\n",
              "      <td>ZDX</td>\n",
              "      <td>2012</td>\n",
              "      <td>premium unleaded (required)</td>\n",
              "      <td>300.0</td>\n",
              "      <td>6.0</td>\n",
              "      <td>AUTOMATIC</td>\n",
              "      <td>all wheel drive</td>\n",
              "      <td>4.0</td>\n",
              "      <td>Crossover,Hatchback,Luxury</td>\n",
              "      <td>Midsize</td>\n",
              "      <td>4dr Hatchback</td>\n",
              "      <td>23</td>\n",
              "      <td>16</td>\n",
              "      <td>204</td>\n",
              "      <td>50620</td>\n",
              "    </tr>\n",
              "    <tr>\n",
              "      <th>11912</th>\n",
              "      <td>Acura</td>\n",
              "      <td>ZDX</td>\n",
              "      <td>2013</td>\n",
              "      <td>premium unleaded (recommended)</td>\n",
              "      <td>300.0</td>\n",
              "      <td>6.0</td>\n",
              "      <td>AUTOMATIC</td>\n",
              "      <td>all wheel drive</td>\n",
              "      <td>4.0</td>\n",
              "      <td>Crossover,Hatchback,Luxury</td>\n",
              "      <td>Midsize</td>\n",
              "      <td>4dr Hatchback</td>\n",
              "      <td>23</td>\n",
              "      <td>16</td>\n",
              "      <td>204</td>\n",
              "      <td>50920</td>\n",
              "    </tr>\n",
              "    <tr>\n",
              "      <th>11913</th>\n",
              "      <td>Lincoln</td>\n",
              "      <td>Zephyr</td>\n",
              "      <td>2006</td>\n",
              "      <td>regular unleaded</td>\n",
              "      <td>221.0</td>\n",
              "      <td>6.0</td>\n",
              "      <td>AUTOMATIC</td>\n",
              "      <td>front wheel drive</td>\n",
              "      <td>4.0</td>\n",
              "      <td>Luxury</td>\n",
              "      <td>Midsize</td>\n",
              "      <td>Sedan</td>\n",
              "      <td>26</td>\n",
              "      <td>17</td>\n",
              "      <td>61</td>\n",
              "      <td>28995</td>\n",
              "    </tr>\n",
              "  </tbody>\n",
              "</table>\n",
              "</div>"
            ],
            "text/plain": [
              "          Make   Model  Year  ... city mpg  Popularity   MSRP\n",
              "11909    Acura     ZDX  2012  ...       16         204  46120\n",
              "11910    Acura     ZDX  2012  ...       16         204  56670\n",
              "11911    Acura     ZDX  2012  ...       16         204  50620\n",
              "11912    Acura     ZDX  2013  ...       16         204  50920\n",
              "11913  Lincoln  Zephyr  2006  ...       17          61  28995\n",
              "\n",
              "[5 rows x 16 columns]"
            ]
          },
          "metadata": {
            "tags": []
          },
          "execution_count": 126
        }
      ]
    },
    {
      "cell_type": "markdown",
      "metadata": {
        "id": "5rg5by6dUXL8",
        "colab_type": "text"
      },
      "source": [
        "1(b)Checking The Types Of Data & Basic Summary Stats.\n",
        "\n",
        "Here we check for the datatypes because sometimes the MSRP or the price of the car would be stored as a string or object, if in that case, we have to convert that string to the integer data only then we can plot the data via a graph. Here, in this case, the data is already in integer format so nothing to worry.\n",
        "\n",
        "**data.info()** is used to get a concise summary of the dataframe. It comes really handy when doing exploratory analysis of the data.\n",
        "\n",
        "**data.describe()** is used to view some basic statistical details like percentile, mean, std etc. of a data frame or a series of numeric values."
      ]
    },
    {
      "cell_type": "code",
      "metadata": {
        "id": "fkNZ6ml2Uo16",
        "colab_type": "code",
        "colab": {
          "base_uri": "https://localhost:8080/",
          "height": 670
        },
        "outputId": "1eb83b66-f343-4a94-ad91-8621463f779b"
      },
      "source": [
        "#Checking the types of data\n",
        "data.dtypes\n",
        "#To Print The Full Summary\n",
        "data.info()\n",
        "data.describe()"
      ],
      "execution_count": 127,
      "outputs": [
        {
          "output_type": "stream",
          "text": [
            "<class 'pandas.core.frame.DataFrame'>\n",
            "RangeIndex: 11914 entries, 0 to 11913\n",
            "Data columns (total 16 columns):\n",
            " #   Column             Non-Null Count  Dtype  \n",
            "---  ------             --------------  -----  \n",
            " 0   Make               11914 non-null  object \n",
            " 1   Model              11914 non-null  object \n",
            " 2   Year               11914 non-null  int64  \n",
            " 3   Engine Fuel Type   11911 non-null  object \n",
            " 4   Engine HP          11845 non-null  float64\n",
            " 5   Engine Cylinders   11884 non-null  float64\n",
            " 6   Transmission Type  11914 non-null  object \n",
            " 7   Driven_Wheels      11914 non-null  object \n",
            " 8   Number of Doors    11908 non-null  float64\n",
            " 9   Market Category    8172 non-null   object \n",
            " 10  Vehicle Size       11914 non-null  object \n",
            " 11  Vehicle Style      11914 non-null  object \n",
            " 12  highway MPG        11914 non-null  int64  \n",
            " 13  city mpg           11914 non-null  int64  \n",
            " 14  Popularity         11914 non-null  int64  \n",
            " 15  MSRP               11914 non-null  int64  \n",
            "dtypes: float64(3), int64(5), object(8)\n",
            "memory usage: 1.5+ MB\n"
          ],
          "name": "stdout"
        },
        {
          "output_type": "execute_result",
          "data": {
            "text/html": [
              "<div>\n",
              "<style scoped>\n",
              "    .dataframe tbody tr th:only-of-type {\n",
              "        vertical-align: middle;\n",
              "    }\n",
              "\n",
              "    .dataframe tbody tr th {\n",
              "        vertical-align: top;\n",
              "    }\n",
              "\n",
              "    .dataframe thead th {\n",
              "        text-align: right;\n",
              "    }\n",
              "</style>\n",
              "<table border=\"1\" class=\"dataframe\">\n",
              "  <thead>\n",
              "    <tr style=\"text-align: right;\">\n",
              "      <th></th>\n",
              "      <th>Year</th>\n",
              "      <th>Engine HP</th>\n",
              "      <th>Engine Cylinders</th>\n",
              "      <th>Number of Doors</th>\n",
              "      <th>highway MPG</th>\n",
              "      <th>city mpg</th>\n",
              "      <th>Popularity</th>\n",
              "      <th>MSRP</th>\n",
              "    </tr>\n",
              "  </thead>\n",
              "  <tbody>\n",
              "    <tr>\n",
              "      <th>count</th>\n",
              "      <td>11914.000000</td>\n",
              "      <td>11845.00000</td>\n",
              "      <td>11884.000000</td>\n",
              "      <td>11908.000000</td>\n",
              "      <td>11914.000000</td>\n",
              "      <td>11914.000000</td>\n",
              "      <td>11914.000000</td>\n",
              "      <td>1.191400e+04</td>\n",
              "    </tr>\n",
              "    <tr>\n",
              "      <th>mean</th>\n",
              "      <td>2010.384338</td>\n",
              "      <td>249.38607</td>\n",
              "      <td>5.628829</td>\n",
              "      <td>3.436093</td>\n",
              "      <td>26.637485</td>\n",
              "      <td>19.733255</td>\n",
              "      <td>1554.911197</td>\n",
              "      <td>4.059474e+04</td>\n",
              "    </tr>\n",
              "    <tr>\n",
              "      <th>std</th>\n",
              "      <td>7.579740</td>\n",
              "      <td>109.19187</td>\n",
              "      <td>1.780559</td>\n",
              "      <td>0.881315</td>\n",
              "      <td>8.863001</td>\n",
              "      <td>8.987798</td>\n",
              "      <td>1441.855347</td>\n",
              "      <td>6.010910e+04</td>\n",
              "    </tr>\n",
              "    <tr>\n",
              "      <th>min</th>\n",
              "      <td>1990.000000</td>\n",
              "      <td>55.00000</td>\n",
              "      <td>0.000000</td>\n",
              "      <td>2.000000</td>\n",
              "      <td>12.000000</td>\n",
              "      <td>7.000000</td>\n",
              "      <td>2.000000</td>\n",
              "      <td>2.000000e+03</td>\n",
              "    </tr>\n",
              "    <tr>\n",
              "      <th>25%</th>\n",
              "      <td>2007.000000</td>\n",
              "      <td>170.00000</td>\n",
              "      <td>4.000000</td>\n",
              "      <td>2.000000</td>\n",
              "      <td>22.000000</td>\n",
              "      <td>16.000000</td>\n",
              "      <td>549.000000</td>\n",
              "      <td>2.100000e+04</td>\n",
              "    </tr>\n",
              "    <tr>\n",
              "      <th>50%</th>\n",
              "      <td>2015.000000</td>\n",
              "      <td>227.00000</td>\n",
              "      <td>6.000000</td>\n",
              "      <td>4.000000</td>\n",
              "      <td>26.000000</td>\n",
              "      <td>18.000000</td>\n",
              "      <td>1385.000000</td>\n",
              "      <td>2.999500e+04</td>\n",
              "    </tr>\n",
              "    <tr>\n",
              "      <th>75%</th>\n",
              "      <td>2016.000000</td>\n",
              "      <td>300.00000</td>\n",
              "      <td>6.000000</td>\n",
              "      <td>4.000000</td>\n",
              "      <td>30.000000</td>\n",
              "      <td>22.000000</td>\n",
              "      <td>2009.000000</td>\n",
              "      <td>4.223125e+04</td>\n",
              "    </tr>\n",
              "    <tr>\n",
              "      <th>max</th>\n",
              "      <td>2017.000000</td>\n",
              "      <td>1001.00000</td>\n",
              "      <td>16.000000</td>\n",
              "      <td>4.000000</td>\n",
              "      <td>354.000000</td>\n",
              "      <td>137.000000</td>\n",
              "      <td>5657.000000</td>\n",
              "      <td>2.065902e+06</td>\n",
              "    </tr>\n",
              "  </tbody>\n",
              "</table>\n",
              "</div>"
            ],
            "text/plain": [
              "               Year    Engine HP  ...    Popularity          MSRP\n",
              "count  11914.000000  11845.00000  ...  11914.000000  1.191400e+04\n",
              "mean    2010.384338    249.38607  ...   1554.911197  4.059474e+04\n",
              "std        7.579740    109.19187  ...   1441.855347  6.010910e+04\n",
              "min     1990.000000     55.00000  ...      2.000000  2.000000e+03\n",
              "25%     2007.000000    170.00000  ...    549.000000  2.100000e+04\n",
              "50%     2015.000000    227.00000  ...   1385.000000  2.999500e+04\n",
              "75%     2016.000000    300.00000  ...   2009.000000  4.223125e+04\n",
              "max     2017.000000   1001.00000  ...   5657.000000  2.065902e+06\n",
              "\n",
              "[8 rows x 8 columns]"
            ]
          },
          "metadata": {
            "tags": []
          },
          "execution_count": 127
        }
      ]
    },
    {
      "cell_type": "markdown",
      "metadata": {
        "id": "CTvAYwn6unqh",
        "colab_type": "text"
      },
      "source": [
        "**2.Dropping Irrevelant Columns**\n",
        "\n",
        "This step is certainly needed in every EDA because sometimes there would be many columns that we never use in such cases dropping is the only solution. In this case, the columns such as Engine Fuel Type, Number of doors, Market Category doesn't make any sense to me so I just dropped for this instance.\n",
        "\n",
        "\n",
        "\n",
        "\n",
        "\n"
      ]
    },
    {
      "cell_type": "code",
      "metadata": {
        "id": "Az4ZNnm_iDr2",
        "colab_type": "code",
        "colab": {
          "base_uri": "https://localhost:8080/",
          "height": 313
        },
        "outputId": "ab619680-aa2b-4b44-eb00-4cc14cddabf1"
      },
      "source": [
        "# Dropping irrelevant columns\n",
        "data = data.drop(['Engine Fuel Type', 'Number of Doors', 'Market Category'], axis=1)\n",
        "data.head(5)"
      ],
      "execution_count": 128,
      "outputs": [
        {
          "output_type": "execute_result",
          "data": {
            "text/html": [
              "<div>\n",
              "<style scoped>\n",
              "    .dataframe tbody tr th:only-of-type {\n",
              "        vertical-align: middle;\n",
              "    }\n",
              "\n",
              "    .dataframe tbody tr th {\n",
              "        vertical-align: top;\n",
              "    }\n",
              "\n",
              "    .dataframe thead th {\n",
              "        text-align: right;\n",
              "    }\n",
              "</style>\n",
              "<table border=\"1\" class=\"dataframe\">\n",
              "  <thead>\n",
              "    <tr style=\"text-align: right;\">\n",
              "      <th></th>\n",
              "      <th>Make</th>\n",
              "      <th>Model</th>\n",
              "      <th>Year</th>\n",
              "      <th>Engine HP</th>\n",
              "      <th>Engine Cylinders</th>\n",
              "      <th>Transmission Type</th>\n",
              "      <th>Driven_Wheels</th>\n",
              "      <th>Vehicle Size</th>\n",
              "      <th>Vehicle Style</th>\n",
              "      <th>highway MPG</th>\n",
              "      <th>city mpg</th>\n",
              "      <th>Popularity</th>\n",
              "      <th>MSRP</th>\n",
              "    </tr>\n",
              "  </thead>\n",
              "  <tbody>\n",
              "    <tr>\n",
              "      <th>0</th>\n",
              "      <td>BMW</td>\n",
              "      <td>1 Series M</td>\n",
              "      <td>2011</td>\n",
              "      <td>335.0</td>\n",
              "      <td>6.0</td>\n",
              "      <td>MANUAL</td>\n",
              "      <td>rear wheel drive</td>\n",
              "      <td>Compact</td>\n",
              "      <td>Coupe</td>\n",
              "      <td>26</td>\n",
              "      <td>19</td>\n",
              "      <td>3916</td>\n",
              "      <td>46135</td>\n",
              "    </tr>\n",
              "    <tr>\n",
              "      <th>1</th>\n",
              "      <td>BMW</td>\n",
              "      <td>1 Series</td>\n",
              "      <td>2011</td>\n",
              "      <td>300.0</td>\n",
              "      <td>6.0</td>\n",
              "      <td>MANUAL</td>\n",
              "      <td>rear wheel drive</td>\n",
              "      <td>Compact</td>\n",
              "      <td>Convertible</td>\n",
              "      <td>28</td>\n",
              "      <td>19</td>\n",
              "      <td>3916</td>\n",
              "      <td>40650</td>\n",
              "    </tr>\n",
              "    <tr>\n",
              "      <th>2</th>\n",
              "      <td>BMW</td>\n",
              "      <td>1 Series</td>\n",
              "      <td>2011</td>\n",
              "      <td>300.0</td>\n",
              "      <td>6.0</td>\n",
              "      <td>MANUAL</td>\n",
              "      <td>rear wheel drive</td>\n",
              "      <td>Compact</td>\n",
              "      <td>Coupe</td>\n",
              "      <td>28</td>\n",
              "      <td>20</td>\n",
              "      <td>3916</td>\n",
              "      <td>36350</td>\n",
              "    </tr>\n",
              "    <tr>\n",
              "      <th>3</th>\n",
              "      <td>BMW</td>\n",
              "      <td>1 Series</td>\n",
              "      <td>2011</td>\n",
              "      <td>230.0</td>\n",
              "      <td>6.0</td>\n",
              "      <td>MANUAL</td>\n",
              "      <td>rear wheel drive</td>\n",
              "      <td>Compact</td>\n",
              "      <td>Coupe</td>\n",
              "      <td>28</td>\n",
              "      <td>18</td>\n",
              "      <td>3916</td>\n",
              "      <td>29450</td>\n",
              "    </tr>\n",
              "    <tr>\n",
              "      <th>4</th>\n",
              "      <td>BMW</td>\n",
              "      <td>1 Series</td>\n",
              "      <td>2011</td>\n",
              "      <td>230.0</td>\n",
              "      <td>6.0</td>\n",
              "      <td>MANUAL</td>\n",
              "      <td>rear wheel drive</td>\n",
              "      <td>Compact</td>\n",
              "      <td>Convertible</td>\n",
              "      <td>28</td>\n",
              "      <td>18</td>\n",
              "      <td>3916</td>\n",
              "      <td>34500</td>\n",
              "    </tr>\n",
              "  </tbody>\n",
              "</table>\n",
              "</div>"
            ],
            "text/plain": [
              "  Make       Model  Year  Engine HP  ...  highway MPG city mpg Popularity   MSRP\n",
              "0  BMW  1 Series M  2011      335.0  ...           26       19       3916  46135\n",
              "1  BMW    1 Series  2011      300.0  ...           28       19       3916  40650\n",
              "2  BMW    1 Series  2011      300.0  ...           28       20       3916  36350\n",
              "3  BMW    1 Series  2011      230.0  ...           28       18       3916  29450\n",
              "4  BMW    1 Series  2011      230.0  ...           28       18       3916  34500\n",
              "\n",
              "[5 rows x 13 columns]"
            ]
          },
          "metadata": {
            "tags": []
          },
          "execution_count": 128
        }
      ]
    },
    {
      "cell_type": "markdown",
      "metadata": {
        "id": "QRNNgOSUv25e",
        "colab_type": "text"
      },
      "source": [
        "**3.Renaming The Columns**\n",
        "\n",
        "In this instance, most of the column names are very confusing to read, so I just tweaked their column names. This is a good approach it improves the readability of the data set."
      ]
    },
    {
      "cell_type": "code",
      "metadata": {
        "id": "ec10OTF3kuwR",
        "colab_type": "code",
        "colab": {
          "base_uri": "https://localhost:8080/",
          "height": 296
        },
        "outputId": "e61dfd2c-4204-4173-b6d1-97e00bb3b688"
      },
      "source": [
        "# Renaming the column names\n",
        "data = data.rename(columns={\"Engine HP\": \"HP\", \"Engine Cylinders\": \"Cylinders\", \"Transmission Type\": \"Transmission\", \"Driven_Wheels\": \"Drive Mode\",\"highway MPG\": \"MPG-H\", \"city mpg\": \"MPG-C\", \"MSRP\": \"Price\"})\n",
        "data.head(5)"
      ],
      "execution_count": 129,
      "outputs": [
        {
          "output_type": "execute_result",
          "data": {
            "text/html": [
              "<div>\n",
              "<style scoped>\n",
              "    .dataframe tbody tr th:only-of-type {\n",
              "        vertical-align: middle;\n",
              "    }\n",
              "\n",
              "    .dataframe tbody tr th {\n",
              "        vertical-align: top;\n",
              "    }\n",
              "\n",
              "    .dataframe thead th {\n",
              "        text-align: right;\n",
              "    }\n",
              "</style>\n",
              "<table border=\"1\" class=\"dataframe\">\n",
              "  <thead>\n",
              "    <tr style=\"text-align: right;\">\n",
              "      <th></th>\n",
              "      <th>Make</th>\n",
              "      <th>Model</th>\n",
              "      <th>Year</th>\n",
              "      <th>HP</th>\n",
              "      <th>Cylinders</th>\n",
              "      <th>Transmission</th>\n",
              "      <th>Drive Mode</th>\n",
              "      <th>Vehicle Size</th>\n",
              "      <th>Vehicle Style</th>\n",
              "      <th>MPG-H</th>\n",
              "      <th>MPG-C</th>\n",
              "      <th>Popularity</th>\n",
              "      <th>Price</th>\n",
              "    </tr>\n",
              "  </thead>\n",
              "  <tbody>\n",
              "    <tr>\n",
              "      <th>0</th>\n",
              "      <td>BMW</td>\n",
              "      <td>1 Series M</td>\n",
              "      <td>2011</td>\n",
              "      <td>335.0</td>\n",
              "      <td>6.0</td>\n",
              "      <td>MANUAL</td>\n",
              "      <td>rear wheel drive</td>\n",
              "      <td>Compact</td>\n",
              "      <td>Coupe</td>\n",
              "      <td>26</td>\n",
              "      <td>19</td>\n",
              "      <td>3916</td>\n",
              "      <td>46135</td>\n",
              "    </tr>\n",
              "    <tr>\n",
              "      <th>1</th>\n",
              "      <td>BMW</td>\n",
              "      <td>1 Series</td>\n",
              "      <td>2011</td>\n",
              "      <td>300.0</td>\n",
              "      <td>6.0</td>\n",
              "      <td>MANUAL</td>\n",
              "      <td>rear wheel drive</td>\n",
              "      <td>Compact</td>\n",
              "      <td>Convertible</td>\n",
              "      <td>28</td>\n",
              "      <td>19</td>\n",
              "      <td>3916</td>\n",
              "      <td>40650</td>\n",
              "    </tr>\n",
              "    <tr>\n",
              "      <th>2</th>\n",
              "      <td>BMW</td>\n",
              "      <td>1 Series</td>\n",
              "      <td>2011</td>\n",
              "      <td>300.0</td>\n",
              "      <td>6.0</td>\n",
              "      <td>MANUAL</td>\n",
              "      <td>rear wheel drive</td>\n",
              "      <td>Compact</td>\n",
              "      <td>Coupe</td>\n",
              "      <td>28</td>\n",
              "      <td>20</td>\n",
              "      <td>3916</td>\n",
              "      <td>36350</td>\n",
              "    </tr>\n",
              "    <tr>\n",
              "      <th>3</th>\n",
              "      <td>BMW</td>\n",
              "      <td>1 Series</td>\n",
              "      <td>2011</td>\n",
              "      <td>230.0</td>\n",
              "      <td>6.0</td>\n",
              "      <td>MANUAL</td>\n",
              "      <td>rear wheel drive</td>\n",
              "      <td>Compact</td>\n",
              "      <td>Coupe</td>\n",
              "      <td>28</td>\n",
              "      <td>18</td>\n",
              "      <td>3916</td>\n",
              "      <td>29450</td>\n",
              "    </tr>\n",
              "    <tr>\n",
              "      <th>4</th>\n",
              "      <td>BMW</td>\n",
              "      <td>1 Series</td>\n",
              "      <td>2011</td>\n",
              "      <td>230.0</td>\n",
              "      <td>6.0</td>\n",
              "      <td>MANUAL</td>\n",
              "      <td>rear wheel drive</td>\n",
              "      <td>Compact</td>\n",
              "      <td>Convertible</td>\n",
              "      <td>28</td>\n",
              "      <td>18</td>\n",
              "      <td>3916</td>\n",
              "      <td>34500</td>\n",
              "    </tr>\n",
              "  </tbody>\n",
              "</table>\n",
              "</div>"
            ],
            "text/plain": [
              "  Make       Model  Year     HP  ...  MPG-H MPG-C Popularity  Price\n",
              "0  BMW  1 Series M  2011  335.0  ...     26    19       3916  46135\n",
              "1  BMW    1 Series  2011  300.0  ...     28    19       3916  40650\n",
              "2  BMW    1 Series  2011  300.0  ...     28    20       3916  36350\n",
              "3  BMW    1 Series  2011  230.0  ...     28    18       3916  29450\n",
              "4  BMW    1 Series  2011  230.0  ...     28    18       3916  34500\n",
              "\n",
              "[5 rows x 13 columns]"
            ]
          },
          "metadata": {
            "tags": []
          },
          "execution_count": 129
        }
      ]
    },
    {
      "cell_type": "markdown",
      "metadata": {
        "id": "w6A2qLsClaTA",
        "colab_type": "text"
      },
      "source": [
        "**4.Dropping The Duplicate Rows**\n",
        "\n",
        "This is often a handy thing to do because a huge data set as in this case contains more than 10, 000 rows often have some duplicate data which might be disturbing, so here I remove all the duplicate value from the data-set. For example prior to removing I had 11914 rows of data but after removing the duplicates 11914 data meaning that I had 792 of duplicate data."
      ]
    },
    {
      "cell_type": "markdown",
      "metadata": {
        "id": "ZFYv_hC0S7Xg",
        "colab_type": "text"
      },
      "source": [
        "Pandas .size, .shape and .ndim are used to return size, shape and dimensions of data frames and series."
      ]
    },
    {
      "cell_type": "code",
      "metadata": {
        "id": "D2frDTlXlhBA",
        "colab_type": "code",
        "colab": {
          "base_uri": "https://localhost:8080/",
          "height": 34
        },
        "outputId": "e50917d5-959a-40c6-ccb6-db6aee21c02a"
      },
      "source": [
        "# Total number of rows and columns\n",
        "data.shape\n",
        "#data.size\n",
        "#data.ndim"
      ],
      "execution_count": 130,
      "outputs": [
        {
          "output_type": "execute_result",
          "data": {
            "text/plain": [
              "(11914, 13)"
            ]
          },
          "metadata": {
            "tags": []
          },
          "execution_count": 130
        }
      ]
    },
    {
      "cell_type": "code",
      "metadata": {
        "id": "jBxONih4l3J0",
        "colab_type": "code",
        "colab": {
          "base_uri": "https://localhost:8080/",
          "height": 34
        },
        "outputId": "2b854912-c642-49ab-ae97-fa0c675950bb"
      },
      "source": [
        "# Rows containing duplicate data\n",
        "duplicate_rows_data = data[data.duplicated()]\n",
        "print(\"Number Of Duplicate Rows :\",duplicate_rows_data.shape)"
      ],
      "execution_count": 131,
      "outputs": [
        {
          "output_type": "stream",
          "text": [
            "Number Of Duplicate Rows : (792, 13)\n"
          ],
          "name": "stdout"
        }
      ]
    },
    {
      "cell_type": "markdown",
      "metadata": {
        "id": "VZEGP6u-H4c8",
        "colab_type": "text"
      },
      "source": [
        "Now let us remove the duplicate data because it's ok to remove them."
      ]
    },
    {
      "cell_type": "code",
      "metadata": {
        "id": "i39EIV0Az39o",
        "colab_type": "code",
        "colab": {
          "base_uri": "https://localhost:8080/",
          "height": 252
        },
        "outputId": "9c86933b-7966-4aa9-f233-c863d673ab88"
      },
      "source": [
        "# Used to count the number of rows before removing the data\n",
        "data.count()"
      ],
      "execution_count": 132,
      "outputs": [
        {
          "output_type": "execute_result",
          "data": {
            "text/plain": [
              "Make             11914\n",
              "Model            11914\n",
              "Year             11914\n",
              "HP               11845\n",
              "Cylinders        11884\n",
              "Transmission     11914\n",
              "Drive Mode       11914\n",
              "Vehicle Size     11914\n",
              "Vehicle Style    11914\n",
              "MPG-H            11914\n",
              "MPG-C            11914\n",
              "Popularity       11914\n",
              "Price            11914\n",
              "dtype: int64"
            ]
          },
          "metadata": {
            "tags": []
          },
          "execution_count": 132
        }
      ]
    },
    {
      "cell_type": "markdown",
      "metadata": {
        "id": "hrmOgOMcIFk_",
        "colab_type": "text"
      },
      "source": [
        "So seen above there are 11914 rows and we are removing 792 rows of duplicate data"
      ]
    },
    {
      "cell_type": "code",
      "metadata": {
        "id": "hFroV9q7m030",
        "colab_type": "code",
        "colab": {
          "base_uri": "https://localhost:8080/",
          "height": 296
        },
        "outputId": "cc528c2e-6f76-4c1b-ac59-33a5e7162c1d"
      },
      "source": [
        "# Dropping the duplicates \n",
        "data = data.drop_duplicates()\n",
        "data.head(5)"
      ],
      "execution_count": 133,
      "outputs": [
        {
          "output_type": "execute_result",
          "data": {
            "text/html": [
              "<div>\n",
              "<style scoped>\n",
              "    .dataframe tbody tr th:only-of-type {\n",
              "        vertical-align: middle;\n",
              "    }\n",
              "\n",
              "    .dataframe tbody tr th {\n",
              "        vertical-align: top;\n",
              "    }\n",
              "\n",
              "    .dataframe thead th {\n",
              "        text-align: right;\n",
              "    }\n",
              "</style>\n",
              "<table border=\"1\" class=\"dataframe\">\n",
              "  <thead>\n",
              "    <tr style=\"text-align: right;\">\n",
              "      <th></th>\n",
              "      <th>Make</th>\n",
              "      <th>Model</th>\n",
              "      <th>Year</th>\n",
              "      <th>HP</th>\n",
              "      <th>Cylinders</th>\n",
              "      <th>Transmission</th>\n",
              "      <th>Drive Mode</th>\n",
              "      <th>Vehicle Size</th>\n",
              "      <th>Vehicle Style</th>\n",
              "      <th>MPG-H</th>\n",
              "      <th>MPG-C</th>\n",
              "      <th>Popularity</th>\n",
              "      <th>Price</th>\n",
              "    </tr>\n",
              "  </thead>\n",
              "  <tbody>\n",
              "    <tr>\n",
              "      <th>0</th>\n",
              "      <td>BMW</td>\n",
              "      <td>1 Series M</td>\n",
              "      <td>2011</td>\n",
              "      <td>335.0</td>\n",
              "      <td>6.0</td>\n",
              "      <td>MANUAL</td>\n",
              "      <td>rear wheel drive</td>\n",
              "      <td>Compact</td>\n",
              "      <td>Coupe</td>\n",
              "      <td>26</td>\n",
              "      <td>19</td>\n",
              "      <td>3916</td>\n",
              "      <td>46135</td>\n",
              "    </tr>\n",
              "    <tr>\n",
              "      <th>1</th>\n",
              "      <td>BMW</td>\n",
              "      <td>1 Series</td>\n",
              "      <td>2011</td>\n",
              "      <td>300.0</td>\n",
              "      <td>6.0</td>\n",
              "      <td>MANUAL</td>\n",
              "      <td>rear wheel drive</td>\n",
              "      <td>Compact</td>\n",
              "      <td>Convertible</td>\n",
              "      <td>28</td>\n",
              "      <td>19</td>\n",
              "      <td>3916</td>\n",
              "      <td>40650</td>\n",
              "    </tr>\n",
              "    <tr>\n",
              "      <th>2</th>\n",
              "      <td>BMW</td>\n",
              "      <td>1 Series</td>\n",
              "      <td>2011</td>\n",
              "      <td>300.0</td>\n",
              "      <td>6.0</td>\n",
              "      <td>MANUAL</td>\n",
              "      <td>rear wheel drive</td>\n",
              "      <td>Compact</td>\n",
              "      <td>Coupe</td>\n",
              "      <td>28</td>\n",
              "      <td>20</td>\n",
              "      <td>3916</td>\n",
              "      <td>36350</td>\n",
              "    </tr>\n",
              "    <tr>\n",
              "      <th>3</th>\n",
              "      <td>BMW</td>\n",
              "      <td>1 Series</td>\n",
              "      <td>2011</td>\n",
              "      <td>230.0</td>\n",
              "      <td>6.0</td>\n",
              "      <td>MANUAL</td>\n",
              "      <td>rear wheel drive</td>\n",
              "      <td>Compact</td>\n",
              "      <td>Coupe</td>\n",
              "      <td>28</td>\n",
              "      <td>18</td>\n",
              "      <td>3916</td>\n",
              "      <td>29450</td>\n",
              "    </tr>\n",
              "    <tr>\n",
              "      <th>4</th>\n",
              "      <td>BMW</td>\n",
              "      <td>1 Series</td>\n",
              "      <td>2011</td>\n",
              "      <td>230.0</td>\n",
              "      <td>6.0</td>\n",
              "      <td>MANUAL</td>\n",
              "      <td>rear wheel drive</td>\n",
              "      <td>Compact</td>\n",
              "      <td>Convertible</td>\n",
              "      <td>28</td>\n",
              "      <td>18</td>\n",
              "      <td>3916</td>\n",
              "      <td>34500</td>\n",
              "    </tr>\n",
              "  </tbody>\n",
              "</table>\n",
              "</div>"
            ],
            "text/plain": [
              "  Make       Model  Year     HP  ...  MPG-H MPG-C Popularity  Price\n",
              "0  BMW  1 Series M  2011  335.0  ...     26    19       3916  46135\n",
              "1  BMW    1 Series  2011  300.0  ...     28    19       3916  40650\n",
              "2  BMW    1 Series  2011  300.0  ...     28    20       3916  36350\n",
              "3  BMW    1 Series  2011  230.0  ...     28    18       3916  29450\n",
              "4  BMW    1 Series  2011  230.0  ...     28    18       3916  34500\n",
              "\n",
              "[5 rows x 13 columns]"
            ]
          },
          "metadata": {
            "tags": []
          },
          "execution_count": 133
        }
      ]
    },
    {
      "cell_type": "code",
      "metadata": {
        "id": "QEsJCaP5m7_u",
        "colab_type": "code",
        "colab": {
          "base_uri": "https://localhost:8080/",
          "height": 252
        },
        "outputId": "faa9a266-02cc-45e5-e555-f4d1d6c7ba28"
      },
      "source": [
        "data.count()"
      ],
      "execution_count": 134,
      "outputs": [
        {
          "output_type": "execute_result",
          "data": {
            "text/plain": [
              "Make             11122\n",
              "Model            11122\n",
              "Year             11122\n",
              "HP               11053\n",
              "Cylinders        11092\n",
              "Transmission     11122\n",
              "Drive Mode       11122\n",
              "Vehicle Size     11122\n",
              "Vehicle Style    11122\n",
              "MPG-H            11122\n",
              "MPG-C            11122\n",
              "Popularity       11122\n",
              "Price            11122\n",
              "dtype: int64"
            ]
          },
          "metadata": {
            "tags": []
          },
          "execution_count": 134
        }
      ]
    },
    {
      "cell_type": "code",
      "metadata": {
        "id": "dgr5bdIbz-av",
        "colab_type": "code",
        "colab": {
          "base_uri": "https://localhost:8080/",
          "height": 34
        },
        "outputId": "a405f134-8438-41ee-83be-dd7c9b94d92b"
      },
      "source": [
        "data.shape"
      ],
      "execution_count": 135,
      "outputs": [
        {
          "output_type": "execute_result",
          "data": {
            "text/plain": [
              "(11122, 13)"
            ]
          },
          "metadata": {
            "tags": []
          },
          "execution_count": 135
        }
      ]
    },
    {
      "cell_type": "markdown",
      "metadata": {
        "id": "w5pCStm9nCHd",
        "colab_type": "text"
      },
      "source": [
        "**4(a).Dropping Missing Null Values**\n",
        "\n",
        "This is mostly similar to the previous step but in here all the missing values are detected and are dropped later. Now, this is not a good approach to do so, because many people just replace the missing values with the mean or the average of that column, but in this case, I just dropped that missing values. This is because there is nearly 100 missing value compared to 10, 000 values this is a small number and this is negligible so I just dropped those values.\n"
      ]
    },
    {
      "cell_type": "code",
      "metadata": {
        "id": "JtS4UynwnH6h",
        "colab_type": "code",
        "colab": {
          "base_uri": "https://localhost:8080/",
          "height": 252
        },
        "outputId": "bbf62f53-ae19-485d-af24-272066c3f3b8"
      },
      "source": [
        "#Finding the null values.\n",
        "print(data.isnull().sum())"
      ],
      "execution_count": 136,
      "outputs": [
        {
          "output_type": "stream",
          "text": [
            "Make              0\n",
            "Model             0\n",
            "Year              0\n",
            "HP               69\n",
            "Cylinders        30\n",
            "Transmission      0\n",
            "Drive Mode        0\n",
            "Vehicle Size      0\n",
            "Vehicle Style     0\n",
            "MPG-H             0\n",
            "MPG-C             0\n",
            "Popularity        0\n",
            "Price             0\n",
            "dtype: int64\n"
          ],
          "name": "stdout"
        }
      ]
    },
    {
      "cell_type": "markdown",
      "metadata": {
        "id": "SKsYZDdfIdRJ",
        "colab_type": "text"
      },
      "source": [
        "This is the reason in the above step while counting both **Horsepower(HP)**and **Cylinders** had 11053 and 11092 over 11122 rows\n"
      ]
    },
    {
      "cell_type": "code",
      "metadata": {
        "id": "TT6vxwjnnWDM",
        "colab_type": "code",
        "colab": {
          "base_uri": "https://localhost:8080/",
          "height": 252
        },
        "outputId": "0e49185b-f8f9-477a-d5da-8ec7425e5917"
      },
      "source": [
        "# Dropping the missing values.\n",
        "data = data.dropna()\n",
        "data.count()"
      ],
      "execution_count": 137,
      "outputs": [
        {
          "output_type": "execute_result",
          "data": {
            "text/plain": [
              "Make             11024\n",
              "Model            11024\n",
              "Year             11024\n",
              "HP               11024\n",
              "Cylinders        11024\n",
              "Transmission     11024\n",
              "Drive Mode       11024\n",
              "Vehicle Size     11024\n",
              "Vehicle Style    11024\n",
              "MPG-H            11024\n",
              "MPG-C            11024\n",
              "Popularity       11024\n",
              "Price            11024\n",
              "dtype: int64"
            ]
          },
          "metadata": {
            "tags": []
          },
          "execution_count": 137
        }
      ]
    },
    {
      "cell_type": "markdown",
      "metadata": {
        "id": "fTKkqAIuImH0",
        "colab_type": "text"
      },
      "source": [
        "Now we have removed all the rows which contain the Null or N/A values (Cylinders and Horsepower (HP))."
      ]
    },
    {
      "cell_type": "code",
      "metadata": {
        "id": "Vg7IFFuenfDv",
        "colab_type": "code",
        "colab": {
          "base_uri": "https://localhost:8080/",
          "height": 252
        },
        "outputId": "58e7eaf2-7232-4e3e-d51d-9969cd346ed8"
      },
      "source": [
        "# After dropping the values\n",
        "print(data.isnull().sum())"
      ],
      "execution_count": 138,
      "outputs": [
        {
          "output_type": "stream",
          "text": [
            "Make             0\n",
            "Model            0\n",
            "Year             0\n",
            "HP               0\n",
            "Cylinders        0\n",
            "Transmission     0\n",
            "Drive Mode       0\n",
            "Vehicle Size     0\n",
            "Vehicle Style    0\n",
            "MPG-H            0\n",
            "MPG-C            0\n",
            "Popularity       0\n",
            "Price            0\n",
            "dtype: int64\n"
          ],
          "name": "stdout"
        }
      ]
    },
    {
      "cell_type": "markdown",
      "metadata": {
        "id": "h-K-9L8-ozSl",
        "colab_type": "text"
      },
      "source": [
        "**5.Detecting Outliers**\n",
        "\n",
        "An outlier is a point or set of points that are different from other points. Sometimes they can be very high or very low. It's often a good idea to detect and remove the outliers. Because outliers are one of the primary reasons for resulting in a less accurate model. Hence it's a good idea to remove them. The outlier detection and removing that I am going to perform is called IQR score technique. Often outliers can be seen with visualizations using a box plot. Shown below are the box plot of MSRP, Cylinders, Horsepower and EngineSize. Herein all the plots, you can find some points are outside the box they are none other than outliers."
      ]
    },
    {
      "cell_type": "markdown",
      "metadata": {
        "id": "IgY7PnZ2KDpV",
        "colab_type": "text"
      },
      "source": [
        "**1.Box plot of HP**"
      ]
    },
    {
      "cell_type": "code",
      "metadata": {
        "id": "_EcyzO0Y0LOL",
        "colab_type": "code",
        "colab": {
          "base_uri": "https://localhost:8080/",
          "height": 302
        },
        "outputId": "4d12952e-533f-4e87-c469-4d2497f12b9c"
      },
      "source": [
        "sns.boxplot(x=data['HP'])"
      ],
      "execution_count": 140,
      "outputs": [
        {
          "output_type": "execute_result",
          "data": {
            "text/plain": [
              "<matplotlib.axes._subplots.AxesSubplot at 0x7fb77324a320>"
            ]
          },
          "metadata": {
            "tags": []
          },
          "execution_count": 140
        },
        {
          "output_type": "display_data",
          "data": {
            "image/png": "[encoded data removed]",
            "text/plain": [
              "<Figure size 432x288 with 1 Axes>"
            ]
          },
          "metadata": {
            "tags": []
          }
        }
      ]
    },
    {
      "cell_type": "markdown",
      "metadata": {
        "id": "lmqng8_OKLc7",
        "colab_type": "text"
      },
      "source": [
        "**2.Box plot of Price**"
      ]
    },
    {
      "cell_type": "code",
      "metadata": {
        "id": "BRYXNH5A0pZ6",
        "colab_type": "code",
        "colab": {
          "base_uri": "https://localhost:8080/",
          "height": 302
        },
        "outputId": "96001283-dff2-4646-9224-87bcd7d32919"
      },
      "source": [
        "sns.boxplot(x=data['Price'])"
      ],
      "execution_count": 141,
      "outputs": [
        {
          "output_type": "execute_result",
          "data": {
            "text/plain": [
              "<matplotlib.axes._subplots.AxesSubplot at 0x7fb772ffc400>"
            ]
          },
          "metadata": {
            "tags": []
          },
          "execution_count": 141
        },
        {
          "output_type": "display_data",
          "data": {
            "image/png": "[encoded data removed]",
            "text/plain": [
              "<Figure size 432x288 with 1 Axes>"
            ]
          },
          "metadata": {
            "tags": []
          }
        }
      ]
    },
    {
      "cell_type": "markdown",
      "metadata": {
        "id": "hByvMoyOKSDY",
        "colab_type": "text"
      },
      "source": [
        "**3.Box plot of Cylinders**"
      ]
    },
    {
      "cell_type": "code",
      "metadata": {
        "id": "jAtuv8ZD0pqR",
        "colab_type": "code",
        "colab": {
          "base_uri": "https://localhost:8080/",
          "height": 302
        },
        "outputId": "bc390aa9-d0fb-4022-9096-99e2f46eb55a"
      },
      "source": [
        "sns.boxplot(x=data['Cylinders'])"
      ],
      "execution_count": 142,
      "outputs": [
        {
          "output_type": "execute_result",
          "data": {
            "text/plain": [
              "<matplotlib.axes._subplots.AxesSubplot at 0x7fb772f4c630>"
            ]
          },
          "metadata": {
            "tags": []
          },
          "execution_count": 142
        },
        {
          "output_type": "display_data",
          "data": {
            "image/png": "[encoded data removed]",
            "text/plain": [
              "<Figure size 432x288 with 1 Axes>"
            ]
          },
          "metadata": {
            "tags": []
          }
        }
      ]
    },
    {
      "cell_type": "code",
      "metadata": {
        "id": "iQXccDmx2q5j",
        "colab_type": "code",
        "colab": {
          "base_uri": "https://localhost:8080/",
          "height": 151
        },
        "outputId": "7d2d81d2-5324-46ed-fa09-bf231b535305"
      },
      "source": [
        "P1 = data.quantile(0.25)\n",
        "P3 = data.quantile(0.75)\n",
        "IQR = P3 - P1\n",
        "print(IQR)"
      ],
      "execution_count": 143,
      "outputs": [
        {
          "output_type": "stream",
          "text": [
            "Year              9.00\n",
            "HP              131.00\n",
            "Cylinders         2.00\n",
            "MPG-H             8.00\n",
            "MPG-C             6.00\n",
            "Popularity     1460.00\n",
            "Price         21426.25\n",
            "dtype: float64\n"
          ],
          "name": "stdout"
        }
      ]
    },
    {
      "cell_type": "markdown",
      "metadata": {
        "id": "twuV-_v223-6",
        "colab_type": "text"
      },
      "source": [
        "Don't worry about the above values because it's not important to know each and every one of them because it's just important to know how to use this technique in order to remove the outliers."
      ]
    },
    {
      "cell_type": "code",
      "metadata": {
        "id": "5gNs2qjy25wu",
        "colab_type": "code",
        "colab": {
          "base_uri": "https://localhost:8080/",
          "height": 34
        },
        "outputId": "1dd27b13-250d-4697-f8c9-ec513cd1b18c"
      },
      "source": [
        "data = data[~((data < (P1 - 1.5 * IQR)) |(data > (P3 + 1.5 * IQR))).any(axis=1)]\n",
        "data.shape"
      ],
      "execution_count": 144,
      "outputs": [
        {
          "output_type": "execute_result",
          "data": {
            "text/plain": [
              "(8546, 13)"
            ]
          },
          "metadata": {
            "tags": []
          },
          "execution_count": 144
        }
      ]
    },
    {
      "cell_type": "markdown",
      "metadata": {
        "id": "uja89nLR3bg2",
        "colab_type": "text"
      },
      "source": [
        "You cannot completely remove the outliers because even after you use the above technique there maybe 1–2 outlier unremoved but that ok because there were more than 100 outliers. Something is better than nothing."
      ]
    },
    {
      "cell_type": "markdown",
      "metadata": {
        "id": "HmihhWm8TxIv",
        "colab_type": "text"
      },
      "source": [
        "**6.What are most represented car brand?**\n",
        "\n",
        " **Histogram**\n",
        "\n",
        " Plot different features against one another (scatter), against frequency (histogram)\n",
        "refers to the frequency of occurrence of variables in an interval. In this case, there are mainly 10 different types of car manufacturing companies, but it is often important to know who has the most number of cars. To do this histogram is one of the trivial solutions which lets us know the total number of car manufactured by a different company."
      ]
    },
    {
      "cell_type": "code",
      "metadata": {
        "id": "ed3gbSqt3dGl",
        "colab_type": "code",
        "colab": {
          "base_uri": "https://localhost:8080/",
          "height": 392
        },
        "outputId": "823bbd58-e024-48d9-ae07-29d753d5f273"
      },
      "source": [
        "#percentage of car per brand\n",
        "#counts = data['Make'].value_counts()*100/sum(data['Make'].value_counts())\n",
        "#Top 10 Car Brands\n",
        "#popular_labels = counts.index[:10]\n",
        "#Plot\n",
        "#plt.figure(figsize=(10,5))\n",
        "#plt.barh(popular_labels, width=counts[:10])\n",
        "#plt.title('Top 10 Car Brands')\n",
        "#plt.show()\n",
        "# Plotting a Histogram\n",
        "data.Make.value_counts().nlargest(40).plot(kind='bar', figsize=(12,4))\n",
        "plt.title(\"Number of cars by make\")\n",
        "plt.ylabel('Number of cars')\n",
        "plt.xlabel('Make')\n"
      ],
      "execution_count": 145,
      "outputs": [
        {
          "output_type": "execute_result",
          "data": {
            "text/plain": [
              "Text(0.5, 0, 'Make')"
            ]
          },
          "metadata": {
            "tags": []
          },
          "execution_count": 145
        },
        {
          "output_type": "display_data",
          "data": {
            "image/png": "[encoded data removed]",
            "text/plain": [
              "<Figure size 864x288 with 1 Axes>"
            ]
          },
          "metadata": {
            "tags": []
          }
        }
      ]
    },
    {
      "cell_type": "code",
      "metadata": {
        "id": "qTCnwgJLWdTE",
        "colab_type": "code",
        "colab": {
          "base_uri": "https://localhost:8080/",
          "height": 168
        },
        "outputId": "0c29ede4-0d94-4c3b-c9df-dadd508d5446"
      },
      "source": [
        "prices = data[['Make','Price']].loc[(data['Make']==\"Chevrolet\")|\n",
        "                                    (data['Make']==\"Ford\")|\n",
        "                                    (data['Make']==\"Volswagen\")|\n",
        "                                    (data['Make']==\"Toyota\")|\n",
        "                                    (data['Make']==\"Dodge\")|\n",
        "                                    (data['Make']==\"Nissan\")|\n",
        "                                    (data['Make']==\"GMC\")|\n",
        "                                    (data['Make']==\"Honda\")|\n",
        "                                    (data['Make']==\"Mazda\")].groupby('Make').mean()\n",
        "print(prices)"
      ],
      "execution_count": 146,
      "outputs": [
        {
          "output_type": "stream",
          "text": [
            "                  Price\n",
            "Make                   \n",
            "Chevrolet  28142.855891\n",
            "Dodge      26076.722353\n",
            "GMC        33261.400853\n",
            "Honda      27381.364611\n",
            "Mazda      20495.820106\n",
            "Nissan     28352.543860\n",
            "Toyota     27769.421793\n"
          ],
          "name": "stdout"
        }
      ]
    },
    {
      "cell_type": "markdown",
      "metadata": {
        "id": "hRIRDGoRcYNo",
        "colab_type": "text"
      },
      "source": [
        "**7.Correlation Matrix**\n",
        "\n",
        "Heat Maps is a type of plot which is necessary when we need to find the dependent variables. One of the best way to find the relationship between the features can be done using heat maps. In the below heat map we know that the price feature depends mainly on the Engine Size, Horsepower, and Cylinders."
      ]
    },
    {
      "cell_type": "code",
      "metadata": {
        "id": "WhgIoI4YCsb0",
        "colab_type": "code",
        "colab": {
          "base_uri": "https://localhost:8080/",
          "height": 254
        },
        "outputId": "094f49b4-b960-4149-d310-4dea787c643d"
      },
      "source": [
        "data.corr()"
      ],
      "execution_count": 147,
      "outputs": [
        {
          "output_type": "execute_result",
          "data": {
            "text/html": [
              "<div>\n",
              "<style scoped>\n",
              "    .dataframe tbody tr th:only-of-type {\n",
              "        vertical-align: middle;\n",
              "    }\n",
              "\n",
              "    .dataframe tbody tr th {\n",
              "        vertical-align: top;\n",
              "    }\n",
              "\n",
              "    .dataframe thead th {\n",
              "        text-align: right;\n",
              "    }\n",
              "</style>\n",
              "<table border=\"1\" class=\"dataframe\">\n",
              "  <thead>\n",
              "    <tr style=\"text-align: right;\">\n",
              "      <th></th>\n",
              "      <th>Year</th>\n",
              "      <th>HP</th>\n",
              "      <th>Cylinders</th>\n",
              "      <th>MPG-H</th>\n",
              "      <th>MPG-C</th>\n",
              "      <th>Popularity</th>\n",
              "      <th>Price</th>\n",
              "    </tr>\n",
              "  </thead>\n",
              "  <tbody>\n",
              "    <tr>\n",
              "      <th>Year</th>\n",
              "      <td>1.000000</td>\n",
              "      <td>0.325104</td>\n",
              "      <td>-0.106597</td>\n",
              "      <td>0.373319</td>\n",
              "      <td>0.335236</td>\n",
              "      <td>0.200710</td>\n",
              "      <td>0.591439</td>\n",
              "    </tr>\n",
              "    <tr>\n",
              "      <th>HP</th>\n",
              "      <td>0.325104</td>\n",
              "      <td>1.000000</td>\n",
              "      <td>0.734094</td>\n",
              "      <td>-0.453451</td>\n",
              "      <td>-0.554768</td>\n",
              "      <td>0.095161</td>\n",
              "      <td>0.745852</td>\n",
              "    </tr>\n",
              "    <tr>\n",
              "      <th>Cylinders</th>\n",
              "      <td>-0.106597</td>\n",
              "      <td>0.734094</td>\n",
              "      <td>1.000000</td>\n",
              "      <td>-0.691395</td>\n",
              "      <td>-0.746361</td>\n",
              "      <td>0.013373</td>\n",
              "      <td>0.389049</td>\n",
              "    </tr>\n",
              "    <tr>\n",
              "      <th>MPG-H</th>\n",
              "      <td>0.373319</td>\n",
              "      <td>-0.453451</td>\n",
              "      <td>-0.691395</td>\n",
              "      <td>1.000000</td>\n",
              "      <td>0.936978</td>\n",
              "      <td>0.093002</td>\n",
              "      <td>-0.121262</td>\n",
              "    </tr>\n",
              "    <tr>\n",
              "      <th>MPG-C</th>\n",
              "      <td>0.335236</td>\n",
              "      <td>-0.554768</td>\n",
              "      <td>-0.746361</td>\n",
              "      <td>0.936978</td>\n",
              "      <td>1.000000</td>\n",
              "      <td>0.081110</td>\n",
              "      <td>-0.197330</td>\n",
              "    </tr>\n",
              "    <tr>\n",
              "      <th>Popularity</th>\n",
              "      <td>0.200710</td>\n",
              "      <td>0.095161</td>\n",
              "      <td>0.013373</td>\n",
              "      <td>0.093002</td>\n",
              "      <td>0.081110</td>\n",
              "      <td>1.000000</td>\n",
              "      <td>0.113604</td>\n",
              "    </tr>\n",
              "    <tr>\n",
              "      <th>Price</th>\n",
              "      <td>0.591439</td>\n",
              "      <td>0.745852</td>\n",
              "      <td>0.389049</td>\n",
              "      <td>-0.121262</td>\n",
              "      <td>-0.197330</td>\n",
              "      <td>0.113604</td>\n",
              "      <td>1.000000</td>\n",
              "    </tr>\n",
              "  </tbody>\n",
              "</table>\n",
              "</div>"
            ],
            "text/plain": [
              "                Year        HP  Cylinders  ...     MPG-C  Popularity     Price\n",
              "Year        1.000000  0.325104  -0.106597  ...  0.335236    0.200710  0.591439\n",
              "HP          0.325104  1.000000   0.734094  ... -0.554768    0.095161  0.745852\n",
              "Cylinders  -0.106597  0.734094   1.000000  ... -0.746361    0.013373  0.389049\n",
              "MPG-H       0.373319 -0.453451  -0.691395  ...  0.936978    0.093002 -0.121262\n",
              "MPG-C       0.335236 -0.554768  -0.746361  ...  1.000000    0.081110 -0.197330\n",
              "Popularity  0.200710  0.095161   0.013373  ...  0.081110    1.000000  0.113604\n",
              "Price       0.591439  0.745852   0.389049  ... -0.197330    0.113604  1.000000\n",
              "\n",
              "[7 rows x 7 columns]"
            ]
          },
          "metadata": {
            "tags": []
          },
          "execution_count": 147
        }
      ]
    },
    {
      "cell_type": "code",
      "metadata": {
        "id": "2RfIhFcBcYlK",
        "colab_type": "code",
        "colab": {
          "base_uri": "https://localhost:8080/",
          "height": 334
        },
        "outputId": "f7991858-648c-4890-c589-c0a4ad6090fb"
      },
      "source": [
        "matrix = np.tril(data.corr())\n",
        "#sns.heatmap(data.corr(), annot=True, mask=matrix)\n",
        "#sns.heatmap(data.corr(), annot = True, fmt='.1g')\n",
        "sns.heatmap(data.corr(), annot = True, vmin=-1, vmax=1, center= 0)"
      ],
      "execution_count": 150,
      "outputs": [
        {
          "output_type": "execute_result",
          "data": {
            "text/plain": [
              "<matplotlib.axes._subplots.AxesSubplot at 0x7fb772bd4fd0>"
            ]
          },
          "metadata": {
            "tags": []
          },
          "execution_count": 150
        },
        {
          "output_type": "display_data",
          "data": {
            "image/png": "[encoded data removed]",
            "text/plain": [
              "<Figure size 432x288 with 2 Axes>"
            ]
          },
          "metadata": {
            "tags": []
          }
        }
      ]
    },
    {
      "cell_type": "markdown",
      "metadata": {
        "id": "C_3yd0fwCiqv",
        "colab_type": "text"
      },
      "source": [
        "The correlation coefficient ranges from -1 to 1. If the value is close to 1, it means that there is a strong positive correlation between the two variables. When it is close to -1, the variables have a strong negative correlation."
      ]
    },
    {
      "cell_type": "markdown",
      "metadata": {
        "id": "J0aKjrJSfeX0",
        "colab_type": "text"
      },
      "source": [
        "7(b).Scatterplot\n",
        "\n",
        "We generally use scatter plots to find the correlation between two variables.\n",
        "Here the scatter plots are plotted between Horsepower and Price and we can see the plot below. With the plot given below, we can easily draw a trend line. These features provide a good scattering of points.\n"
      ]
    },
    {
      "cell_type": "code",
      "metadata": {
        "id": "szy7UTQdfdnS",
        "colab_type": "code",
        "colab": {
          "base_uri": "https://localhost:8080/",
          "height": 394
        },
        "outputId": "cef9ef79-d1f6-4e66-daeb-bd6e9b72fb5b"
      },
      "source": [
        "# Plotting a scatter plot\n",
        "fig, ax = plt.subplots(figsize=(10,6))\n",
        "ax.scatter(data['HP'], data['Price'])\n",
        "ax.set_xlabel('HP')\n",
        "ax.set_ylabel('Price')\n",
        "plt.show()"
      ],
      "execution_count": 151,
      "outputs": [
        {
          "output_type": "display_data",
          "data": {
            "image/png": "[encoded data removed]",
            "text/plain": [
              "<Figure size 720x432 with 1 Axes>"
            ]
          },
          "metadata": {
            "tags": []
          }
        }
      ]
    },
    {
      "cell_type": "markdown",
      "metadata": {
        "id": "xm-c3PmTynkg",
        "colab_type": "text"
      },
      "source": [
        "7(c).Which Vehicle Style Segment Of Cars Sold The Most?"
      ]
    },
    {
      "cell_type": "code",
      "metadata": {
        "id": "TEi131LJy03t",
        "colab_type": "code",
        "colab": {
          "base_uri": "https://localhost:8080/",
          "height": 479
        },
        "outputId": "2d1500a1-5d71-4ab9-8457-54ecd658811d"
      },
      "source": [
        "data['Vehicle Style'].value_counts().plot.bar(figsize=(10,5))\n",
        "plt.title('Car Sold By Body')\n",
        "plt.ylabel('Number Of Vehicles')\n",
        "plt.xlabel('Body Type')"
      ],
      "execution_count": 152,
      "outputs": [
        {
          "output_type": "execute_result",
          "data": {
            "text/plain": [
              "Text(0.5, 0, 'Body Type')"
            ]
          },
          "metadata": {
            "tags": []
          },
          "execution_count": 152
        },
        {
          "output_type": "display_data",
          "data": {
            "image/png": "[encoded data removed]",
            "text/plain": [
              "<Figure size 720x360 with 1 Axes>"
            ]
          },
          "metadata": {
            "tags": []
          }
        }
      ]
    },
    {
      "cell_type": "markdown",
      "metadata": {
        "id": "vTxce0RQ2mPv",
        "colab_type": "text"
      },
      "source": [
        "**8.\"Price-group\"**\n",
        "\n",
        "Bin values into discrete intervals.\n",
        "\n",
        "Use cut when you need to segment and sort data values into bins. This function is also useful for going from a continuous variable to a categorical variable. For example, cut could convert ages to groups of age ranges. Supports binning into an equal number of bins, or a pre-specified array of bins."
      ]
    },
    {
      "cell_type": "code",
      "metadata": {
        "id": "UIdtYhzS67vv",
        "colab_type": "code",
        "colab": {}
      },
      "source": [
        "data['price_group']=pd.cut(data['Price'], 6,\n",
        "                            labels=np.arange(1,7), include_lowest=True)\n",
        "data['price_group'] = data['price_group'].astype(object)"
      ],
      "execution_count": 153,
      "outputs": []
    },
    {
      "cell_type": "code",
      "metadata": {
        "id": "lPv7BXKzFyW2",
        "colab_type": "code",
        "colab": {
          "base_uri": "https://localhost:8080/",
          "height": 424
        },
        "outputId": "27678ac0-aed2-4e2d-e606-543eccd564a8"
      },
      "source": [
        "(data['price_group'].value_counts() / len(data) *100).plot.bar(figsize=(10,6))\n",
        "plt.title('Price Group Bar Diagram')\n",
        "plt.ylabel('% Of Vehicles')\n",
        "plt.xlabel('Price Group')"
      ],
      "execution_count": 154,
      "outputs": [
        {
          "output_type": "execute_result",
          "data": {
            "text/plain": [
              "Text(0.5, 0, 'Price Group')"
            ]
          },
          "metadata": {
            "tags": []
          },
          "execution_count": 154
        },
        {
          "output_type": "display_data",
          "data": {
            "image/png": "[encoded data removed]",
            "text/plain": [
              "<Figure size 720x432 with 1 Axes>"
            ]
          },
          "metadata": {
            "tags": []
          }
        }
      ]
    },
    {
      "cell_type": "markdown",
      "metadata": {
        "id": "zBYXnvgd6DUM",
        "colab_type": "text"
      },
      "source": [
        "**9.Model Building**"
      ]
    },
    {
      "cell_type": "markdown",
      "metadata": {
        "id": "RVhBL1vUidkZ",
        "colab_type": "text"
      },
      "source": [
        "**Preparing the data for training the model**\n",
        "\n",
        "We concatenate the **Popularity, Year, HP, Cylinders, MPG-H & MPG-C** columns using np.c_ provided by the numpy library."
      ]
    },
    {
      "cell_type": "code",
      "metadata": {
        "id": "XNoVzMWp6Csg",
        "colab_type": "code",
        "colab": {}
      },
      "source": [
        "X = pd.DataFrame(np.c_[data['Popularity'], data['Year'], data['HP'], data['Cylinders'], data['MPG-H'], data['MPG-C']], columns = ['Popularity','Year','HP','Cylinders','MPG-H','MPG-C'])\n",
        "Y = data['Price'].values"
      ],
      "execution_count": 157,
      "outputs": []
    },
    {
      "cell_type": "markdown",
      "metadata": {
        "id": "w36UB1KFLqVD",
        "colab_type": "text"
      },
      "source": [
        "**Scale The Data**\n",
        "\n",
        "Based on the type of model we are building, we will have to normalize the data in such a way that the range of all the variables is almost similar. We can do this easily in python using the StandardScaler function."
      ]
    },
    {
      "cell_type": "code",
      "metadata": {
        "id": "0Az2Q3c9_BWP",
        "colab_type": "code",
        "colab": {}
      },
      "source": [
        "#from sklearn.preprocessing import StandardScaler\n",
        "#sc_X = StandardScaler() \n",
        "#sc_Y = StandardScaler()\n",
        "#X = sc_X.fit_transform(X)\n",
        "#Y = sc_Y.fit_transform(Y.reshape(-1,1))"
      ],
      "execution_count": 158,
      "outputs": []
    },
    {
      "cell_type": "markdown",
      "metadata": {
        "id": "qbJFbUHJjZly",
        "colab_type": "text"
      },
      "source": [
        "**Splitting the data into training and testing sets**\n",
        "\n",
        "we split the data into training and testing sets. We train the model with 80% of the samples and test with the remaining 20%. We do this to assess the model’s performance on unseen data.To split the data we use train_test_split function provided by scikit-learn library. We finally print the sizes of our training and test set to verify if the splitting has occurred properly."
      ]
    },
    {
      "cell_type": "code",
      "metadata": {
        "id": "WvQatejjHVnG",
        "colab_type": "code",
        "colab": {
          "base_uri": "https://localhost:8080/",
          "height": 84
        },
        "outputId": "e34de05e-760a-45ef-9350-d084a681031d"
      },
      "source": [
        "from sklearn.model_selection import train_test_split\n",
        "X_train, X_test, Y_train, Y_test = train_test_split(X, Y, test_size = 0.2, random_state=0)\n",
        "print(X_train.shape)\n",
        "print(X_test.shape)\n",
        "print(Y_train.shape)\n",
        "print(Y_test.shape)"
      ],
      "execution_count": 162,
      "outputs": [
        {
          "output_type": "stream",
          "text": [
            "(6836, 6)\n",
            "(1710, 6)\n",
            "(6836,)\n",
            "(1710,)\n"
          ],
          "name": "stdout"
        }
      ]
    },
    {
      "cell_type": "markdown",
      "metadata": {
        "id": "SHJgRnQmiH4d",
        "colab_type": "text"
      },
      "source": [
        "**Training And Testing Model**\n",
        "\n",
        "We use scikit-learn’s LinearRegression, RandomForestRegressor, PolynomialFeatures and SVR to train our model on both the training and test sets."
      ]
    },
    {
      "cell_type": "code",
      "metadata": {
        "id": "-EIS4no-6DpN",
        "colab_type": "code",
        "colab": {}
      },
      "source": [
        "from sklearn.linear_model import LinearRegression\n",
        "from sklearn.metrics import mean_squared_error\n",
        "from sklearn.metrics import mean_absolute_error\n",
        "from sklearn.metrics import r2_score\n",
        "from sklearn.ensemble import  RandomForestRegressor\n",
        "from sklearn.preprocessing import PolynomialFeatures\n",
        "from sklearn.svm import SVR"
      ],
      "execution_count": 167,
      "outputs": []
    },
    {
      "cell_type": "markdown",
      "metadata": {
        "id": "RFaOuIgdj7GD",
        "colab_type": "text"
      },
      "source": [
        "**Model evaluation**\n",
        "\n",
        "We will evaluate our model using MSA, RMSE and R2-score."
      ]
    },
    {
      "cell_type": "markdown",
      "metadata": {
        "id": "kNnBKraFH0L6",
        "colab_type": "text"
      },
      "source": [
        "**linear regression**"
      ]
    },
    {
      "cell_type": "code",
      "metadata": {
        "id": "WEf-Pb8zwXHi",
        "colab_type": "code",
        "colab": {
          "base_uri": "https://localhost:8080/",
          "height": 420
        },
        "outputId": "5a10ceb6-9816-433d-c39c-403ca6290415"
      },
      "source": [
        "# create an object of the LinearRegression Model\n",
        "model_LR = LinearRegression()\n",
        "\n",
        "# fit the model with the training data\n",
        "model_LR.fit(X_train, Y_train)\n",
        "\n",
        "# predict the target on train and test data \n",
        "predict_train = model_LR.predict(X_train)\n",
        "\n",
        "predict_test  = model_LR.predict(X_test)\n",
        "plt.scatter(Y_test,predict_test)\n",
        "\n",
        "print(\"The model performance for training set:-\")\n",
        "print('MAE on train data:', mean_absolute_error(Y_train, predict_train)**(0.5))\n",
        "print('RMSE on train data: ', mean_squared_error(Y_train, predict_train)**(0.5))\n",
        "print('R2 score on train data :', r2_score(Y_train, predict_train)**(0.5))\n",
        "print(\"-------------------------------------------------------\")\n",
        "print(\"The model performance for testing set:-\")\n",
        "print('MAE on test data:', mean_absolute_error(Y_test, predict_test)**(0.5))\n",
        "print('RMSE on test data: ',  mean_squared_error(Y_test, predict_test)**(0.5))\n",
        "print('R2 score on test  :', r2_score(Y_test, predict_test)**(0.5))\n"
      ],
      "execution_count": 168,
      "outputs": [
        {
          "output_type": "stream",
          "text": [
            "The model performance for training set:-\n",
            "MAE on train data: 80.04964521134002\n",
            "RMSE on train data:  8344.540523332164\n",
            "R2 score on train data : 0.8356832491876865\n",
            "-------------------------------------------------------\n",
            "The model performance for testing set:-\n",
            "MAE on test data: 80.28451313108668\n",
            "RMSE on test data:  8446.82878430551\n",
            "R2 score on test  : 0.8246499585376298\n"
          ],
          "name": "stdout"
        },
        {
          "output_type": "display_data",
          "data": {
            "image/png": "[encoded data removed]",
            "text/plain": [
              "<Figure size 432x288 with 1 Axes>"
            ]
          },
          "metadata": {
            "tags": []
          }
        }
      ]
    },
    {
      "cell_type": "code",
      "metadata": {
        "id": "8aCwzLVF0_zB",
        "colab_type": "code",
        "colab": {
          "base_uri": "https://localhost:8080/",
          "height": 296
        },
        "outputId": "01cf0fad-f2f0-4aa3-c6dd-bda6fba975d6"
      },
      "source": [
        "sns.distplot((Y_test-predict_test),bins=50)"
      ],
      "execution_count": 169,
      "outputs": [
        {
          "output_type": "execute_result",
          "data": {
            "text/plain": [
              "<matplotlib.axes._subplots.AxesSubplot at 0x7fb76f4f5588>"
            ]
          },
          "metadata": {
            "tags": []
          },
          "execution_count": 169
        },
        {
          "output_type": "display_data",
          "data": {
            "image/png": "[encoded data removed]",
            "text/plain": [
              "<Figure size 432x288 with 1 Axes>"
            ]
          },
          "metadata": {
            "tags": []
          }
        }
      ]
    },
    {
      "cell_type": "markdown",
      "metadata": {
        "id": "9sNKXRmT2TVl",
        "colab_type": "text"
      },
      "source": [
        "The linear regression model has a very low values on both training and validation data. "
      ]
    },
    {
      "cell_type": "markdown",
      "metadata": {
        "id": "KOoFQ5RShW9k",
        "colab_type": "text"
      },
      "source": [
        "**10.Spot Checking Algorithm**"
      ]
    },
    {
      "cell_type": "markdown",
      "metadata": {
        "id": "2THLztZL54Z-",
        "colab_type": "text"
      },
      "source": [
        "**A)RandomForestRegression**\n",
        "\n",
        "Let us see what tree-based model performs  in this case. Here we will train a random forest and check if we get any improvement in the train and validation errors."
      ]
    },
    {
      "cell_type": "code",
      "metadata": {
        "id": "4eZ-_9qkha_k",
        "colab_type": "code",
        "colab": {
          "base_uri": "https://localhost:8080/",
          "height": 419
        },
        "outputId": "4b82fa74-3d4f-457a-d8a7-aa92ed4a944a"
      },
      "source": [
        "#create an object of the RandomForestRegressor\n",
        "model_RFR = RandomForestRegressor(max_depth=1)\n",
        "\n",
        "# fit the model with the training data\n",
        "model_RFR.fit(X_train, Y_train)\n",
        "\n",
        "# predict the target on train and test data\n",
        "predict_train = model_RFR.predict(X_train)\n",
        "predict_test = model_RFR.predict(X_test)\n",
        "plt.scatter(Y_test,predict_test)\n",
        "\n",
        "print(\"The model performance for training set:-\")\n",
        "print('MAE on train data:', mean_absolute_error(Y_train, predict_train)**(0.5))\n",
        "print('RMSE on train data: ', mean_squared_error(Y_train, predict_train)**(0.5))\n",
        "print('R2 score on train data :', r2_score(Y_train, predict_train)**(0.5))\n",
        "print(\"-------------------------------------------------------\")\n",
        "print(\"The model performance for testing set:-\")\n",
        "print('MAE on test data:', mean_absolute_error(Y_test, predict_test)**(0.5))\n",
        "print('RMSE on test data: ',  mean_squared_error(Y_test, predict_test)**(0.5))\n",
        "print('R2 score on test data:', r2_score(Y_test, predict_test)**(0.5))"
      ],
      "execution_count": 170,
      "outputs": [
        {
          "output_type": "stream",
          "text": [
            "The model performance for training set:-\n",
            "MAE on train data: 93.16101560394078\n",
            "RMSE on train data:  11384.506312568517\n",
            "R2 score on train data : 0.6622388413543011\n",
            "-------------------------------------------------------\n",
            "The model performance for testing set:-\n",
            "MAE on test data: 92.41216959524262\n",
            "RMSE on test data:  11400.887925319701\n",
            "R2 score on test data: 0.645852174696959\n"
          ],
          "name": "stdout"
        },
        {
          "output_type": "display_data",
          "data": {
            "image/png": "[encoded data removed]",
            "text/plain": [
              "<Figure size 432x288 with 1 Axes>"
            ]
          },
          "metadata": {
            "tags": []
          }
        }
      ]
    },
    {
      "cell_type": "code",
      "metadata": {
        "id": "ElZE632XhbwG",
        "colab_type": "code",
        "colab": {
          "base_uri": "https://localhost:8080/",
          "height": 296
        },
        "outputId": "8912d65f-4ec6-4805-96b8-5e650c441ca4"
      },
      "source": [
        "sns.distplot((Y_test-predict_test),bins=30)"
      ],
      "execution_count": 171,
      "outputs": [
        {
          "output_type": "execute_result",
          "data": {
            "text/plain": [
              "<matplotlib.axes._subplots.AxesSubplot at 0x7fb76f34e400>"
            ]
          },
          "metadata": {
            "tags": []
          },
          "execution_count": 171
        },
        {
          "output_type": "display_data",
          "data": {
            "image/png": "[encoded data removed]",
            "text/plain": [
              "<Figure size 432x288 with 1 Axes>"
            ]
          },
          "metadata": {
            "tags": []
          }
        }
      ]
    },
    {
      "cell_type": "markdown",
      "metadata": {
        "id": "S-K_BtZYGUlO",
        "colab_type": "text"
      },
      "source": [
        "**B)PolynomialFeatures**\n",
        "\n",
        "Here we will train a polynomial features and check if we get any improvement in the train and validation errors."
      ]
    },
    {
      "cell_type": "code",
      "metadata": {
        "id": "B10JLqz45vOA",
        "colab_type": "code",
        "colab": {
          "base_uri": "https://localhost:8080/",
          "height": 420
        },
        "outputId": "ba11b67b-2c1d-4ada-a6a5-087ea0dbc08e"
      },
      "source": [
        "#create an object of the PolynomialFeatures\n",
        "model_PF = PolynomialFeatures(degree = 1)\n",
        "\n",
        "# fit the model with the training data\n",
        "X_poly = model_PF.fit_transform(X_train)\n",
        "model_PF.fit(X_train, Y_train) \n",
        "model_LR = LinearRegression()\n",
        "model_LR.fit(X_poly, Y_train)\n",
        "\n",
        "# predict the target on train and test data\n",
        "predict_train = model_LR.predict(model_PF.fit_transform(X_train))\n",
        "predict_test = model_LR.predict(model_PF.fit_transform(X_test))\n",
        "plt.scatter(Y_test,predict_test)\n",
        "\n",
        "print(\"The model performance for training set:-\")\n",
        "print('MAE on train data:', mean_absolute_error(Y_train, predict_train)**(0.5))\n",
        "print('RMSE on train data: ', mean_squared_error(Y_train, predict_train)**(0.5))\n",
        "print('R2 score on train data :', r2_score(Y_train, predict_train)**(0.5))\n",
        "print(\"-------------------------------------------------------\")\n",
        "print(\"The model performance for testing set:-\")\n",
        "print('MAE on test data:', mean_absolute_error(Y_test, predict_test)**(0.5))\n",
        "print('RMSE on test data: ',  mean_squared_error(Y_test, predict_test)**(0.5))\n",
        "print('R2 score on test data:', r2_score(Y_test, predict_test)**(0.5))\n"
      ],
      "execution_count": 172,
      "outputs": [
        {
          "output_type": "stream",
          "text": [
            "The model performance for training set:-\n",
            "MAE on train data: 80.04964521133998\n",
            "RMSE on train data:  8344.540523332176\n",
            "R2 score on train data : 0.835683249187686\n",
            "-------------------------------------------------------\n",
            "The model performance for testing set:-\n",
            "MAE on test data: 80.28451313108661\n",
            "RMSE on test data:  8446.828784305513\n",
            "R2 score on test data: 0.8246499585376297\n"
          ],
          "name": "stdout"
        },
        {
          "output_type": "display_data",
          "data": {
            "image/png": "[encoded data removed]",
            "text/plain": [
              "<Figure size 432x288 with 1 Axes>"
            ]
          },
          "metadata": {
            "tags": []
          }
        }
      ]
    },
    {
      "cell_type": "code",
      "metadata": {
        "id": "xZXbTEX4DY3B",
        "colab_type": "code",
        "colab": {
          "base_uri": "https://localhost:8080/",
          "height": 517
        },
        "outputId": "ee798c1c-46fc-4c10-abc3-a63561752257"
      },
      "source": [
        "sns.distplot((Y_test-predict_test),bins=30)"
      ],
      "execution_count": null,
      "outputs": [
        {
          "output_type": "execute_result",
          "data": {
            "text/plain": [
              "<matplotlib.axes._subplots.AxesSubplot at 0x7fc269215390>"
            ]
          },
          "metadata": {
            "tags": []
          },
          "execution_count": 350
        },
        {
          "output_type": "display_data",
          "data": {
            "image/png": "[encoded data removed]",
            "text/plain": [
              "<Figure size 842.4x595.44 with 1 Axes>"
            ]
          },
          "metadata": {
            "tags": []
          }
        }
      ]
    },
    {
      "cell_type": "markdown",
      "metadata": {
        "id": "ZVfgZqEVGrV7",
        "colab_type": "text"
      },
      "source": [
        "**C)SVR**\n",
        "\n",
        "Here we will train a svr and check if we get any improvement in the train and validation errors."
      ]
    },
    {
      "cell_type": "code",
      "metadata": {
        "id": "Ca7twJW-Dyut",
        "colab_type": "code",
        "colab": {
          "base_uri": "https://localhost:8080/",
          "height": 453
        },
        "outputId": "f64ccc09-1335-4f87-9dd2-cf6f606b187e"
      },
      "source": [
        "#create an object of the SVR\n",
        "model_SVR = SVR(kernel = 'rbf')\n",
        "\n",
        "# fit the model with the training data\n",
        "model_SVR.fit(X_train, Y_train) \n",
        "model_LR = LinearRegression()\n",
        "model_LR.fit(X_poly, Y_train)\n",
        "\n",
        "# predict the target on train and test data\n",
        "predict_train = model_SVR.predict(X_train)\n",
        "predict_test = model_SVR.predict(X_test)\n",
        "plt.scatter(Y_test,predict_test)\n",
        "\n",
        "print(\"The model performance for training set:-\")\n",
        "print('MAE on train data:', mean_absolute_error(Y_train, predict_train)**(0.5))\n",
        "print('RMSE on train data: ', mean_squared_error(Y_train, predict_train)**(0.5))\n",
        "print('R2 score on train data :', r2_score(Y_train, predict_train)**(0.5))\n",
        "print(\"-------------------------------------------------------\")\n",
        "print(\"The model performance for testing set:-\")\n",
        "print('MAE on test data:', mean_absolute_error(Y_test, predict_test)**(0.5))\n",
        "print('RMSE on test data: ',  mean_squared_error(Y_test, predict_test)**(0.5))\n",
        "print('R2 score on test data:', r2_score(Y_test, predict_test)**(0.5))"
      ],
      "execution_count": 173,
      "outputs": [
        {
          "output_type": "stream",
          "text": [
            "The model performance for training set:-\n",
            "MAE on train data: 108.25297802005186\n",
            "RMSE on train data:  15207.687695835053\n",
            "R2 score on train data : nan\n",
            "-------------------------------------------------------\n",
            "The model performance for testing set:-\n",
            "MAE on test data: 107.06524169340716\n",
            "RMSE on test data:  14957.225419442844\n",
            "R2 score on test data: nan\n"
          ],
          "name": "stdout"
        },
        {
          "output_type": "stream",
          "text": [
            "/usr/local/lib/python3.6/dist-packages/ipykernel_launcher.py:17: RuntimeWarning: invalid value encountered in double_scalars\n",
            "/usr/local/lib/python3.6/dist-packages/ipykernel_launcher.py:22: RuntimeWarning: invalid value encountered in double_scalars\n"
          ],
          "name": "stderr"
        },
        {
          "output_type": "display_data",
          "data": {
            "image/png": "[encoded data removed]",
            "text/plain": [
              "<Figure size 432x288 with 1 Axes>"
            ]
          },
          "metadata": {
            "tags": []
          }
        }
      ]
    },
    {
      "cell_type": "code",
      "metadata": {
        "id": "c-himEsyFRTx",
        "colab_type": "code",
        "colab": {
          "base_uri": "https://localhost:8080/",
          "height": 296
        },
        "outputId": "3e7ce5dc-3029-464d-8ee7-91b1574223ef"
      },
      "source": [
        "sns.distplot((Y_test-predict_test),bins=30)"
      ],
      "execution_count": 174,
      "outputs": [
        {
          "output_type": "execute_result",
          "data": {
            "text/plain": [
              "<matplotlib.axes._subplots.AxesSubplot at 0x7fb76f25ba58>"
            ]
          },
          "metadata": {
            "tags": []
          },
          "execution_count": 174
        },
        {
          "output_type": "display_data",
          "data": {
            "image/png": "[encoded data removed]",
            "text/plain": [
              "<Figure size 432x288 with 1 Axes>"
            ]
          },
          "metadata": {
            "tags": []
          }
        }
      ]
    },
    {
      "cell_type": "markdown",
      "metadata": {
        "id": "yCp2xovUXzHG",
        "colab_type": "text"
      },
      "source": [
        "**Thank you!!**"
      ]
    }
  ]
}